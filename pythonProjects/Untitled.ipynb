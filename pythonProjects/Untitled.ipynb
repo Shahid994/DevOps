{
 "cells": [
  {
   "cell_type": "code",
   "execution_count": 2,
   "id": "33eabdf4-6a21-4556-8620-7bc5ca81ddc6",
   "metadata": {},
   "outputs": [
    {
     "name": "stdout",
     "output_type": "stream",
     "text": [
      "5\n"
     ]
    }
   ],
   "source": [
    "x=5\n",
    "print(x)"
   ]
  },
  {
   "cell_type": "code",
   "execution_count": 6,
   "id": "809d3176-ba48-46b6-b390-8f435182093b",
   "metadata": {},
   "outputs": [
    {
     "data": {
      "text/plain": [
       "'hello world'"
      ]
     },
     "execution_count": 6,
     "metadata": {},
     "output_type": "execute_result"
    }
   ],
   "source": [
    "\"hello\"  +  \" world\""
   ]
  },
  {
   "cell_type": "code",
   "execution_count": 2,
   "id": "83d8b06e-9944-45fa-9194-54b9586a8d59",
   "metadata": {},
   "outputs": [
    {
     "data": {
      "text/plain": [
       "'hello world'"
      ]
     },
     "execution_count": 2,
     "metadata": {},
     "output_type": "execute_result"
    }
   ],
   "source": [
    "2 + 3 * 4   # expression that evaluates to 14\n",
    "\"hello\" + \" world\"  # expression that evaluates to \"hello world\"\n"
   ]
  },
  {
   "cell_type": "code",
   "execution_count": 4,
   "id": "ef9efda9-ade8-4b6b-8dfa-4c679e80c5b6",
   "metadata": {},
   "outputs": [],
   "source": [
    "int_num = 10         # integer\n",
    "float_num = 10.5     # float\n",
    "complex_num = 1 + 2j # complex number\n"
   ]
  },
  {
   "cell_type": "code",
   "execution_count": 10,
   "id": "5dce0dbd-454f-4287-b6cf-255a6025c3b0",
   "metadata": {},
   "outputs": [
    {
     "name": "stdout",
     "output_type": "stream",
     "text": [
      "8\n"
     ]
    }
   ],
   "source": [
    "x=5\n",
    "complex_num = 1 + 2 + x \n",
    "print(complex_num)"
   ]
  },
  {
   "cell_type": "code",
   "execution_count": 18,
   "id": "431ab81a-1ffd-41f2-b736-c3f3969fc1cf",
   "metadata": {},
   "outputs": [
    {
     "name": "stdout",
     "output_type": "stream",
     "text": [
      "Hello World\n"
     ]
    }
   ],
   "source": [
    "greeting = \"Hello\" + \" \" + \"World\"  \n",
    "print(greeting)"
   ]
  },
  {
   "cell_type": "code",
   "execution_count": 26,
   "id": "bfe2465d-0644-426d-921a-4d7fc4e62d77",
   "metadata": {},
   "outputs": [
    {
     "name": "stdout",
     "output_type": "stream",
     "text": [
      "P yth\n"
     ]
    }
   ],
   "source": [
    "word = \"Python\"\n",
    "first_letter = word[0] \n",
    "sub_word = word[1:4]    \n",
    "print(first_letter,sub_word)"
   ]
  },
  {
   "cell_type": "code",
   "execution_count": 85,
   "id": "88305c65-6ff6-4d84-bef9-231d38833d0a",
   "metadata": {},
   "outputs": [
    {
     "name": "stdin",
     "output_type": "stream",
     "text": [
      "Enter your name:  shahid\n",
      "Enter your age:  30\n"
     ]
    },
    {
     "name": "stdout",
     "output_type": "stream",
     "text": [
      "Hello, shahid! You are 30 years old.\n",
      "Here is the list of fruits: ['apple', 'banana', 'cherry', 'date']\n",
      "shahid likes banana and cherry\n",
      "You are an adult.\n",
      "I have a apple.\n",
      "I have a banana.\n",
      "I have a cherry.\n",
      "I have a date.\n"
     ]
    },
    {
     "name": "stdin",
     "output_type": "stream",
     "text": [
      "Enter your height in meters:  511\n"
     ]
    },
    {
     "name": "stdout",
     "output_type": "stream",
     "text": [
      "Your height is 511.0 meters.\n",
      "Hello, shahid!\n"
     ]
    }
   ],
   "source": [
    "# This is a simple Python program\n",
    "\n",
    "# Getting user input\n",
    "name = input(\"Enter your name: \")\n",
    "age = int(input(\"Enter your age: \"))\n",
    "\n",
    "# Displaying the input\n",
    "print(f\"Hello, {name}! You are {age} years old.\")\n",
    "\n",
    "# Working with lists\n",
    "fruits = [\"apple\", \"banana\", \"cherry\"]\n",
    "fruits.append(\"date\")\n",
    "print(\"Here is the list of fruits:\", fruits)\n",
    "\n",
    "# String operations\n",
    "message = f\"{name} likes {fruits[1]} and {fruits[2]}\"\n",
    "print(message)\n",
    "\n",
    "# Conditional statement\n",
    "if age < 18:\n",
    "    print(\"You are a minor.\")\n",
    "else:\n",
    "    print(\"You are an adult.\")\n",
    "\n",
    "# Loop through the list\n",
    "for fruit in fruits:\n",
    "    print(f\"I have a {fruit}.\")\n",
    "\n",
    "# Demonstrating type casting\n",
    "height_str = input(\"Enter your height in meters: \")\n",
    "height = float(height_str)\n",
    "print(f\"Your height is {height} meters.\")\n",
    "\n",
    "# Using a function\n",
    "def greet(name):\n",
    "    return f\"Hello, {name}!\"\n",
    "\n",
    "print(greet(name))\n"
   ]
  },
  {
   "cell_type": "code",
   "execution_count": 3,
   "id": "8d8f091d-2320-45e9-9a60-47c0e8eb66f0",
   "metadata": {},
   "outputs": [
    {
     "data": {
      "text/plain": [
       "5"
      ]
     },
     "execution_count": 3,
     "metadata": {},
     "output_type": "execute_result"
    }
   ],
   "source": [
    "len(\"hello\") "
   ]
  },
  {
   "cell_type": "code",
   "execution_count": 5,
   "id": "6912aafb-ad72-4f2d-9218-5d04e441c43e",
   "metadata": {},
   "outputs": [
    {
     "data": {
      "text/plain": [
       "'HELLO'"
      ]
     },
     "execution_count": 5,
     "metadata": {},
     "output_type": "execute_result"
    }
   ],
   "source": [
    "\"hello\".upper() "
   ]
  },
  {
   "cell_type": "code",
   "execution_count": 7,
   "id": "f53b0840-6cb1-4ff2-b51d-864f9f0b6115",
   "metadata": {},
   "outputs": [
    {
     "data": {
      "text/plain": [
       "'hello'"
      ]
     },
     "execution_count": 7,
     "metadata": {},
     "output_type": "execute_result"
    }
   ],
   "source": [
    "\"HELLO\".lower()  "
   ]
  },
  {
   "cell_type": "code",
   "execution_count": 11,
   "id": "a5142f20-fd82-4631-a9ac-1fa9d878a52e",
   "metadata": {},
   "outputs": [
    {
     "name": "stdin",
     "output_type": "stream",
     "text": [
      "Enter your name:  shahid\n"
     ]
    }
   ],
   "source": [
    "name = input(\"Enter your name: \")  # reads input as string\n"
   ]
  },
  {
   "cell_type": "code",
   "execution_count": 13,
   "id": "0d57c77f-db9c-4d8b-a4f0-d2c9ef845b24",
   "metadata": {},
   "outputs": [
    {
     "name": "stdin",
     "output_type": "stream",
     "text": [
      "Enter your age:  30\n",
      "Enter your height:  511\n"
     ]
    }
   ],
   "source": [
    "age = int(input(\"Enter your age: \"))  # converts input to integer\n",
    "height = float(input(\"Enter your height: \"))  # converts input to float\n",
    "number_str = str(123)  # converts number to string\n"
   ]
  },
  {
   "cell_type": "code",
   "execution_count": 15,
   "id": "2c045b36-bcf2-41ef-9f66-fcb23b99e58e",
   "metadata": {},
   "outputs": [],
   "source": [
    "fruits = [\"apple\", \"banana\", \"cherry\"]"
   ]
  },
  {
   "cell_type": "code",
   "execution_count": 17,
   "id": "406526ca-444e-4670-851b-4589d3f0d0bb",
   "metadata": {},
   "outputs": [],
   "source": [
    "first_fruit = fruits[0] "
   ]
  },
  {
   "cell_type": "code",
   "execution_count": 19,
   "id": "7540ac6b-5cd5-48f2-8c4d-fdd406c8f4c2",
   "metadata": {},
   "outputs": [
    {
     "name": "stdout",
     "output_type": "stream",
     "text": [
      "apple\n"
     ]
    }
   ],
   "source": [
    "print(first_fruit)"
   ]
  },
  {
   "cell_type": "code",
   "execution_count": 21,
   "id": "a625e978-c163-4cc7-be34-38e67fb94cf9",
   "metadata": {},
   "outputs": [],
   "source": [
    "fruits[1] = \"blueberry\" "
   ]
  },
  {
   "cell_type": "code",
   "execution_count": 23,
   "id": "1ecf6958-d68f-4aa9-84d4-6a0aa42ef341",
   "metadata": {},
   "outputs": [
    {
     "name": "stdout",
     "output_type": "stream",
     "text": [
      "['apple', 'blueberry', 'cherry']\n"
     ]
    }
   ],
   "source": [
    "print(fruits)"
   ]
  },
  {
   "cell_type": "code",
   "execution_count": 25,
   "id": "25c4f8ac-7b6b-4e99-b476-1231ed1ad159",
   "metadata": {},
   "outputs": [],
   "source": [
    "fruits.append(\"date\") "
   ]
  },
  {
   "cell_type": "code",
   "execution_count": 27,
   "id": "adf39f03-41b8-42eb-b826-3ed9c1c39c13",
   "metadata": {},
   "outputs": [
    {
     "name": "stdout",
     "output_type": "stream",
     "text": [
      "['apple', 'blueberry', 'cherry', 'date']\n"
     ]
    }
   ],
   "source": [
    "print(fruits)\n"
   ]
  },
  {
   "cell_type": "code",
   "execution_count": 29,
   "id": "fcece722-6365-4543-bfba-6b391dcd56b3",
   "metadata": {},
   "outputs": [],
   "source": [
    "fruits.insert(2, \"banana\")"
   ]
  },
  {
   "cell_type": "code",
   "execution_count": 31,
   "id": "02d05181-dc92-4873-83ed-7aa240ee0177",
   "metadata": {},
   "outputs": [
    {
     "name": "stdout",
     "output_type": "stream",
     "text": [
      "['apple', 'blueberry', 'banana', 'cherry', 'date']\n"
     ]
    }
   ],
   "source": [
    "print(fruits)"
   ]
  },
  {
   "cell_type": "code",
   "execution_count": 33,
   "id": "d48105a0-7b4f-4eed-8d86-c0d1b8f22db2",
   "metadata": {},
   "outputs": [],
   "source": [
    "fruits.remove(\"apple\")\n"
   ]
  },
  {
   "cell_type": "code",
   "execution_count": 35,
   "id": "325c021e-d6e0-4571-8695-3af11258d56c",
   "metadata": {},
   "outputs": [
    {
     "name": "stdout",
     "output_type": "stream",
     "text": [
      "['blueberry', 'banana', 'cherry', 'date']\n"
     ]
    }
   ],
   "source": [
    "print(fruits)"
   ]
  },
  {
   "cell_type": "code",
   "execution_count": 37,
   "id": "66fa1ab1-52d0-45b5-8d82-63d1d66b12e1",
   "metadata": {},
   "outputs": [],
   "source": [
    "popped_fruit = fruits.pop()"
   ]
  },
  {
   "cell_type": "code",
   "execution_count": 39,
   "id": "00f9daf2-49bd-4ff0-8873-10938a97cefd",
   "metadata": {},
   "outputs": [
    {
     "name": "stdout",
     "output_type": "stream",
     "text": [
      "date\n"
     ]
    }
   ],
   "source": [
    "print(popped_fruit)"
   ]
  },
  {
   "cell_type": "code",
   "execution_count": 41,
   "id": "f914f96a-de43-4bae-8631-eab495067939",
   "metadata": {},
   "outputs": [
    {
     "name": "stdout",
     "output_type": "stream",
     "text": [
      "['blueberry', 'banana', 'cherry']\n"
     ]
    }
   ],
   "source": [
    "print(fruits)"
   ]
  },
  {
   "cell_type": "code",
   "execution_count": 43,
   "id": "475ae132-8ac4-4ef0-80b2-749ef60d89c2",
   "metadata": {},
   "outputs": [
    {
     "data": {
      "text/plain": [
       "3"
      ]
     },
     "execution_count": 43,
     "metadata": {},
     "output_type": "execute_result"
    }
   ],
   "source": [
    "len(fruits)    "
   ]
  },
  {
   "cell_type": "code",
   "execution_count": 45,
   "id": "89972872-4b64-411c-927b-5ce2630190e0",
   "metadata": {},
   "outputs": [],
   "source": [
    "fruits.sort() "
   ]
  },
  {
   "cell_type": "code",
   "execution_count": 47,
   "id": "5973a446-6cb6-4202-bb93-cc98bc5241cf",
   "metadata": {},
   "outputs": [
    {
     "name": "stdout",
     "output_type": "stream",
     "text": [
      "['banana', 'blueberry', 'cherry']\n"
     ]
    }
   ],
   "source": [
    "print(fruits)"
   ]
  },
  {
   "cell_type": "code",
   "execution_count": 49,
   "id": "e529dd1a-0815-4987-be3f-f4930eb13ca2",
   "metadata": {},
   "outputs": [],
   "source": [
    "fruits.reverse()"
   ]
  },
  {
   "cell_type": "code",
   "execution_count": 51,
   "id": "61c6572e-b736-4786-b2d0-f7a4209802a9",
   "metadata": {},
   "outputs": [
    {
     "name": "stdout",
     "output_type": "stream",
     "text": [
      "['cherry', 'blueberry', 'banana']\n"
     ]
    }
   ],
   "source": [
    "print(fruits)"
   ]
  },
  {
   "cell_type": "code",
   "execution_count": 53,
   "id": "5d5c0de7-4220-4ce1-9d72-ac00b26b7bce",
   "metadata": {},
   "outputs": [
    {
     "name": "stdout",
     "output_type": "stream",
     "text": [
      "Hello, Alice! You are 30 years old.\n"
     ]
    }
   ],
   "source": [
    "name = \"Alice\"\n",
    "age = 30\n",
    "\n",
    "# With the f-string:\n",
    "print(f\"Hello, {name}! You are {age} years old.\")\n"
   ]
  },
  {
   "cell_type": "code",
   "execution_count": 55,
   "id": "de03c06a-f99c-43ad-a8b1-fe7d741cc6eb",
   "metadata": {},
   "outputs": [
    {
     "name": "stdout",
     "output_type": "stream",
     "text": [
      "Hello, Alice! You are 30 years old.\n"
     ]
    }
   ],
   "source": [
    "print(\"Hello, {}! You are {} years old.\".format(name, age))\n"
   ]
  },
  {
   "cell_type": "code",
   "execution_count": 57,
   "id": "848ea786-927e-4764-bb0a-5156e8b6ae29",
   "metadata": {},
   "outputs": [],
   "source": [
    "x=5"
   ]
  },
  {
   "cell_type": "code",
   "execution_count": 59,
   "id": "3c2a619b-2b6b-406e-a7ad-014f6acb6ae3",
   "metadata": {},
   "outputs": [
    {
     "name": "stdout",
     "output_type": "stream",
     "text": [
      "5\n"
     ]
    }
   ],
   "source": [
    "print(x)"
   ]
  },
  {
   "cell_type": "code",
   "execution_count": 61,
   "id": "21d7efa8-a279-4072-8f29-3f2c3e0ac893",
   "metadata": {},
   "outputs": [
    {
     "name": "stdin",
     "output_type": "stream",
     "text": [
      "Enter your name:  shahid\n",
      "Enter your age:  30\n"
     ]
    },
    {
     "name": "stdout",
     "output_type": "stream",
     "text": [
      "Hello, shahid! You are 30 years old.\n"
     ]
    }
   ],
   "source": [
    "name = input(\"Enter your name: \")\n",
    "age = int(input(\"Enter your age: \"))\n",
    "\n",
    "# Displaying the input\n",
    "print(f\"Hello, {name}! You are {age} years old.\")"
   ]
  },
  {
   "cell_type": "code",
   "execution_count": 63,
   "id": "8aba78ab-dc1f-4878-bc39-b415c9ce632d",
   "metadata": {},
   "outputs": [],
   "source": [
    "fruits = [\"apple\", \"banana\", \"cherry\"]\n",
    "fruits.append(\"date\")"
   ]
  },
  {
   "cell_type": "code",
   "execution_count": 65,
   "id": "f2d11264-41b7-4258-99e3-5ace83c92b18",
   "metadata": {},
   "outputs": [
    {
     "name": "stdout",
     "output_type": "stream",
     "text": [
      "['apple', 'banana', 'cherry', 'date']\n"
     ]
    }
   ],
   "source": [
    "print(fruits)"
   ]
  },
  {
   "cell_type": "code",
   "execution_count": 67,
   "id": "4864b23a-1c0c-4969-b647-dcc19e60f7d5",
   "metadata": {},
   "outputs": [],
   "source": [
    "fruits.sort()"
   ]
  },
  {
   "cell_type": "code",
   "execution_count": 69,
   "id": "c28f6be6-e1c3-43af-98e7-bb6461cd0cfe",
   "metadata": {},
   "outputs": [
    {
     "name": "stdout",
     "output_type": "stream",
     "text": [
      "['apple', 'banana', 'cherry', 'date']\n"
     ]
    }
   ],
   "source": [
    "print(fruits)"
   ]
  },
  {
   "cell_type": "code",
   "execution_count": 71,
   "id": "506399e2-d4e5-453b-bbdc-97eed85bcb55",
   "metadata": {},
   "outputs": [],
   "source": [
    "fruits.reverse()"
   ]
  },
  {
   "cell_type": "code",
   "execution_count": 73,
   "id": "88742ce3-31cc-4861-8506-b257360aae88",
   "metadata": {},
   "outputs": [
    {
     "name": "stdout",
     "output_type": "stream",
     "text": [
      "['date', 'cherry', 'banana', 'apple']\n"
     ]
    }
   ],
   "source": [
    "print(fruits)"
   ]
  },
  {
   "cell_type": "code",
   "execution_count": 75,
   "id": "55e11e34-fa77-4f91-aaec-09a5a5a01e74",
   "metadata": {},
   "outputs": [],
   "source": [
    "fruits_popped=fruits.pop()"
   ]
  },
  {
   "cell_type": "code",
   "execution_count": 77,
   "id": "7ad2be2d-1ee4-4de8-8d8f-a19f928394fa",
   "metadata": {},
   "outputs": [
    {
     "name": "stdout",
     "output_type": "stream",
     "text": [
      "apple\n"
     ]
    }
   ],
   "source": [
    "print(fruits_popped)"
   ]
  },
  {
   "cell_type": "code",
   "execution_count": 79,
   "id": "796b1c1d-3617-4177-bb13-e7d04f0cb912",
   "metadata": {},
   "outputs": [
    {
     "name": "stdout",
     "output_type": "stream",
     "text": [
      "['date', 'cherry', 'banana']\n"
     ]
    }
   ],
   "source": [
    "print(fruits)"
   ]
  },
  {
   "cell_type": "code",
   "execution_count": 81,
   "id": "b9f24af1-79ad-4a33-be5e-b17942cedd4a",
   "metadata": {},
   "outputs": [
    {
     "data": {
      "text/plain": [
       "2"
      ]
     },
     "execution_count": 81,
     "metadata": {},
     "output_type": "execute_result"
    }
   ],
   "source": [
    "fruits.index(\"banana\")"
   ]
  },
  {
   "cell_type": "code",
   "execution_count": 83,
   "id": "0aa8ffeb-6a67-4090-9676-df22f8e665d7",
   "metadata": {},
   "outputs": [
    {
     "data": {
      "text/plain": [
       "1"
      ]
     },
     "execution_count": 83,
     "metadata": {},
     "output_type": "execute_result"
    }
   ],
   "source": [
    "fruits.count(\"banana\")"
   ]
  },
  {
   "cell_type": "code",
   "execution_count": null,
   "id": "aed44c34-3b73-4800-9854-7400c99e31b3",
   "metadata": {},
   "outputs": [],
   "source": []
  }
 ],
 "metadata": {
  "kernelspec": {
   "display_name": "Python 3 (ipykernel)",
   "language": "python",
   "name": "python3"
  },
  "language_info": {
   "codemirror_mode": {
    "name": "ipython",
    "version": 3
   },
   "file_extension": ".py",
   "mimetype": "text/x-python",
   "name": "python",
   "nbconvert_exporter": "python",
   "pygments_lexer": "ipython3",
   "version": "3.11.7"
  }
 },
 "nbformat": 4,
 "nbformat_minor": 5
}
