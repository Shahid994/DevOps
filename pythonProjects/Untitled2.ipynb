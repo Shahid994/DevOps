{
 "cells": [
  {
   "cell_type": "code",
   "execution_count": 15,
   "id": "bc9c7316-13a5-4353-86b0-a6e2d12159f9",
   "metadata": {},
   "outputs": [],
   "source": [
    "my_dict = {'name': 'shahid', 'age': 30, 'city': 'Islamabad'}"
   ]
  },
  {
   "cell_type": "code",
   "execution_count": 5,
   "id": "d0b6e853-096b-4e30-a727-b5fba0ea7f15",
   "metadata": {},
   "outputs": [
    {
     "name": "stdout",
     "output_type": "stream",
     "text": [
      "shahid\n",
      "30\n"
     ]
    }
   ],
   "source": [
    "print(my_dict['name'])  \n",
    "print(my_dict['age'])   "
   ]
  },
  {
   "cell_type": "code",
   "execution_count": 19,
   "id": "8bfbb97f-0d48-4b15-8cec-395f815780aa",
   "metadata": {},
   "outputs": [],
   "source": [
    "my_dict['email'] = 'shahid@example.com'"
   ]
  },
  {
   "cell_type": "code",
   "execution_count": 21,
   "id": "04bb90d9-3533-41b3-bd36-70b44d83a3a8",
   "metadata": {},
   "outputs": [
    {
     "name": "stdout",
     "output_type": "stream",
     "text": [
      "{'name': 'shahid', 'age': 30, 'city': 'Islamabad', 'email': 'shahid@example.com'}\n"
     ]
    }
   ],
   "source": [
    "print (my_dict)"
   ]
  },
  {
   "cell_type": "code",
   "execution_count": 23,
   "id": "73e00c0d-03a7-4257-b468-9fe62f9b56a4",
   "metadata": {},
   "outputs": [],
   "source": [
    "my_dict['age'] = 29"
   ]
  },
  {
   "cell_type": "code",
   "execution_count": 25,
   "id": "fac95216-a1d8-4afe-9b33-15086a2b0c35",
   "metadata": {},
   "outputs": [
    {
     "name": "stdout",
     "output_type": "stream",
     "text": [
      "{'name': 'shahid', 'age': 29, 'city': 'Islamabad', 'email': 'shahid@example.com'}\n"
     ]
    }
   ],
   "source": [
    "print(my_dict)"
   ]
  },
  {
   "cell_type": "code",
   "execution_count": 27,
   "id": "a156a0de-d0f9-422f-829c-22f211b37d64",
   "metadata": {},
   "outputs": [],
   "source": [
    "del my_dict['city']"
   ]
  },
  {
   "cell_type": "code",
   "execution_count": 29,
   "id": "de560e1d-cdc0-463d-a664-6af7f40d772c",
   "metadata": {},
   "outputs": [
    {
     "name": "stdout",
     "output_type": "stream",
     "text": [
      "{'name': 'shahid', 'age': 29, 'email': 'shahid@example.com'}\n"
     ]
    }
   ],
   "source": [
    "print(my_dict)"
   ]
  },
  {
   "cell_type": "code",
   "execution_count": 31,
   "id": "5ce2c6db-dd69-4737-b844-f8620edea346",
   "metadata": {},
   "outputs": [
    {
     "name": "stdout",
     "output_type": "stream",
     "text": [
      "name: shahid\n",
      "age: 29\n",
      "email: shahid@example.com\n"
     ]
    }
   ],
   "source": [
    "for key, value in my_dict.items():\n",
    "    print(f'{key}: {value}')"
   ]
  },
  {
   "cell_type": "code",
   "execution_count": 33,
   "id": "07047a66-fa76-468f-aec3-a6b5821414b2",
   "metadata": {},
   "outputs": [
    {
     "name": "stdout",
     "output_type": "stream",
     "text": [
      "1\n",
      "2\n",
      "3\n",
      "4\n"
     ]
    }
   ],
   "source": [
    "for num in range(1, 10):\n",
    "    if num == 5:\n",
    "        break\n",
    "    print(num)"
   ]
  },
  {
   "cell_type": "code",
   "execution_count": 39,
   "id": "9d5cd42a-7da5-47ea-9dce-608d13d04282",
   "metadata": {},
   "outputs": [
    {
     "name": "stdout",
     "output_type": "stream",
     "text": [
      "1\n",
      "3\n",
      "5\n",
      "7\n",
      "9\n"
     ]
    }
   ],
   "source": [
    "for num in range(1, 10):\n",
    "    if num % 2 == 0:\n",
    "        continue\n",
    "    print(num)"
   ]
  },
  {
   "cell_type": "code",
   "execution_count": 41,
   "id": "c8e61f39-b8f7-41ef-805e-a67fad432e2c",
   "metadata": {},
   "outputs": [
    {
     "name": "stdout",
     "output_type": "stream",
     "text": [
      "You are an adult with a moderate income.\n"
     ]
    }
   ],
   "source": [
    "age = 25\n",
    "income = 50000\n",
    "\n",
    "if age < 18:\n",
    "    print(\"You are a minor.\")\n",
    "else:\n",
    "    if income < 30000:\n",
    "        print(\"You are an adult with a low income.\")\n",
    "    elif 30000 <= income <= 60000:\n",
    "        print(\"You are an adult with a moderate income.\")\n",
    "    else:\n",
    "        print(\"You are an adult with a high income.\")"
   ]
  },
  {
   "cell_type": "code",
   "execution_count": 43,
   "id": "fd77a91b-c9ed-4e31-9f83-b1f597c15276",
   "metadata": {},
   "outputs": [
    {
     "name": "stdout",
     "output_type": "stream",
     "text": [
      "B\n"
     ]
    }
   ],
   "source": [
    "grade = 85\n",
    "\n",
    "if grade >= 90:\n",
    "    print(\"A\")\n",
    "else:\n",
    "    if grade >= 80:\n",
    "        print(\"B\")\n",
    "    else:\n",
    "        if grade >= 70:\n",
    "            print(\"C\")\n",
    "        else:\n",
    "            if grade >= 60:\n",
    "                print(\"D\")\n",
    "            else:\n",
    "                print(\"F\")"
   ]
  },
  {
   "cell_type": "code",
   "execution_count": 45,
   "id": "e6a7c806-60e8-4e49-b069-b6c6427fa72d",
   "metadata": {},
   "outputs": [
    {
     "name": "stdout",
     "output_type": "stream",
     "text": [
      "apple\n",
      "banana\n",
      "cherry\n"
     ]
    }
   ],
   "source": [
    "fruits = ['apple', 'banana', 'cherry']\n",
    "for fruit in fruits:\n",
    "    print(fruit)"
   ]
  },
  {
   "cell_type": "code",
   "execution_count": 51,
   "id": "46d90460-4dc5-4cff-9841-f2b1d8f4d3a6",
   "metadata": {},
   "outputs": [
    {
     "name": "stdout",
     "output_type": "stream",
     "text": [
      "H\n",
      "e\n",
      "l\n",
      "l\n",
      "o\n"
     ]
    }
   ],
   "source": [
    "for char in \"Hello\":\n",
    "    print(char)"
   ]
  },
  {
   "cell_type": "code",
   "execution_count": 53,
   "id": "e8c6d66b-09b0-40ec-8f88-b8ac72fe6d06",
   "metadata": {},
   "outputs": [
    {
     "name": "stdout",
     "output_type": "stream",
     "text": [
      "0\n",
      "1\n",
      "2\n",
      "3\n",
      "4\n"
     ]
    }
   ],
   "source": [
    "for num in range(5):\n",
    "    print(num)"
   ]
  },
  {
   "cell_type": "code",
   "execution_count": 57,
   "id": "2b9d22bc-3508-40d8-9793-d6e196918b8a",
   "metadata": {},
   "outputs": [
    {
     "name": "stdout",
     "output_type": "stream",
     "text": [
      "shahid\n",
      "29\n",
      "shahid@example.com\n"
     ]
    }
   ],
   "source": [
    "for value in my_dict.values():\n",
    "    print(value)"
   ]
  },
  {
   "cell_type": "code",
   "execution_count": 59,
   "id": "da05baef-b425-4b94-a540-6d56b998f5e3",
   "metadata": {},
   "outputs": [
    {
     "name": "stdout",
     "output_type": "stream",
     "text": [
      "Odd\n"
     ]
    }
   ],
   "source": [
    "num = 5\n",
    "result = \"Even\" if num % 2 == 0 else \"Odd\"\n",
    "print(result)"
   ]
  },
  {
   "cell_type": "code",
   "execution_count": 61,
   "id": "ad66eb36-9826-4b0a-bee1-3403213aa3ea",
   "metadata": {},
   "outputs": [
    {
     "name": "stdout",
     "output_type": "stream",
     "text": [
      "20\n"
     ]
    }
   ],
   "source": [
    "a, b = 10, 20\n",
    "max_value = a if a > b else b\n",
    "print(max_value)"
   ]
  },
  {
   "cell_type": "code",
   "execution_count": 63,
   "id": "8c07f3b3-c419-4c8b-a464-15984eed521e",
   "metadata": {},
   "outputs": [
    {
     "name": "stdout",
     "output_type": "stream",
     "text": [
      "Good morning!\n"
     ]
    }
   ],
   "source": [
    "def greet_morning():\n",
    "    return \"Good morning!\"\n",
    "\n",
    "def greet_evening():\n",
    "    return \"Good evening!\"\n",
    "\n",
    "time_of_day = \"morning\"\n",
    "greeting = greet_morning() if time_of_day == \"morning\" else greet_evening()\n",
    "print(greeting)"
   ]
  },
  {
   "cell_type": "code",
   "execution_count": 65,
   "id": "b0a6b05e-dfa9-42fd-87c6-e4422b46f5de",
   "metadata": {},
   "outputs": [
    {
     "name": "stdout",
     "output_type": "stream",
     "text": [
      "B\n"
     ]
    }
   ],
   "source": [
    "score = 85\n",
    "grade = \"A\" if score >= 90 else (\"B\" if score >= 80 else (\"C\" if score >= 70 else (\"D\" if score >= 60 else \"F\")))\n",
    "print(grade) "
   ]
  },
  {
   "cell_type": "code",
   "execution_count": 67,
   "id": "22bc2208-d97b-4b25-8870-9a4743a102b4",
   "metadata": {},
   "outputs": [
    {
     "name": "stdout",
     "output_type": "stream",
     "text": [
      "Found\n"
     ]
    }
   ],
   "source": [
    "items = [\"apple\", \"banana\", \"cherry\"]\n",
    "item = \"banana\"\n",
    "status = \"Found\" if item in items else \"Not Found\"\n",
    "print(status) "
   ]
  },
  {
   "cell_type": "code",
   "execution_count": 75,
   "id": "d7ceee41-56e5-4596-ae6c-3b99cf193fa7",
   "metadata": {},
   "outputs": [
    {
     "name": "stdout",
     "output_type": "stream",
     "text": [
      "29\n"
     ]
    }
   ],
   "source": [
    "age = my_dict[\"age\"] if \"age\" in my_dict else \"Age not provided\"\n",
    "print(age)"
   ]
  },
  {
   "cell_type": "code",
   "execution_count": 79,
   "id": "5b0f079e-b900-4475-8f56-e33ee333b5ce",
   "metadata": {},
   "outputs": [
    {
     "name": "stdout",
     "output_type": "stream",
     "text": [
      "2\n",
      "4\n",
      "6\n",
      "8\n"
     ]
    }
   ],
   "source": [
    "for num in range(1, 10):\n",
    "    if num % 2 == 0:\n",
    "       print(num)"
   ]
  },
  {
   "cell_type": "code",
   "execution_count": 81,
   "id": "c50b5860-ee98-4f21-8de0-9bea6f1324b7",
   "metadata": {},
   "outputs": [
    {
     "name": "stdout",
     "output_type": "stream",
     "text": [
      "hello\n",
      "hello\n",
      "hello\n",
      "hello\n",
      "hello\n"
     ]
    }
   ],
   "source": [
    "for i in range(5):\n",
    "    print(\"hello\")"
   ]
  },
  {
   "cell_type": "code",
   "execution_count": 83,
   "id": "86967834-4ba2-425b-9dd4-207d82172e31",
   "metadata": {},
   "outputs": [
    {
     "name": "stdout",
     "output_type": "stream",
     "text": [
      "{'name': 'shahid', 'age': 29, 'email': 'shahid@example.com'}\n"
     ]
    }
   ],
   "source": [
    "print(my_dict)"
   ]
  },
  {
   "cell_type": "code",
   "execution_count": 85,
   "id": "d09b171f-2f7b-4904-8705-ff10c8c9bb07",
   "metadata": {},
   "outputs": [
    {
     "name": "stdout",
     "output_type": "stream",
     "text": [
      "education not provided\n"
     ]
    }
   ],
   "source": [
    "age = my_dict[\"education\"] if \"education\" in my_dict else \"education not provided\"\n",
    "print(age)"
   ]
  },
  {
   "cell_type": "code",
   "execution_count": null,
   "id": "5491b3e4-6460-407c-8f64-b7c9221f40e9",
   "metadata": {},
   "outputs": [],
   "source": []
  }
 ],
 "metadata": {
  "kernelspec": {
   "display_name": "Python 3 (ipykernel)",
   "language": "python",
   "name": "python3"
  },
  "language_info": {
   "codemirror_mode": {
    "name": "ipython",
    "version": 3
   },
   "file_extension": ".py",
   "mimetype": "text/x-python",
   "name": "python",
   "nbconvert_exporter": "python",
   "pygments_lexer": "ipython3",
   "version": "3.11.7"
  }
 },
 "nbformat": 4,
 "nbformat_minor": 5
}
