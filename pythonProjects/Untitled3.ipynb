{
 "cells": [
  {
   "cell_type": "code",
   "execution_count": 1,
   "id": "9e83f7a0-b8b5-4897-abfe-fab0579040bb",
   "metadata": {},
   "outputs": [
    {
     "name": "stdout",
     "output_type": "stream",
     "text": [
      "15\n",
      "10\n"
     ]
    }
   ],
   "source": [
    "# Global variable\n",
    "x = 10\n",
    "\n",
    "def example_function():\n",
    "    # Local variable\n",
    "    y = 5\n",
    "    return x + y\n",
    "\n",
    "print(example_function())  # Output: 15\n",
    "print(x)  # Output: 10\n",
    "# print(y)  # This would cause an error because y is not accessible here\n"
   ]
  },
  {
   "cell_type": "code",
   "execution_count": 7,
   "id": "e23ef4d7-a798-4de3-96b3-2bafd3e86d41",
   "metadata": {},
   "outputs": [
    {
     "name": "stdout",
     "output_type": "stream",
     "text": [
      "1\n",
      "2\n"
     ]
    }
   ],
   "source": [
    "# Global variable\n",
    "count = 0\n",
    "\n",
    "def increment():\n",
    "    global count  # Declaring that we are using the global variable\n",
    "    count += 1\n",
    "\n",
    "increment()\n",
    "print(count)  # Output: 1\n",
    "\n",
    "increment()\n",
    "print(count)  # Output: 2\n"
   ]
  },
  {
   "cell_type": "code",
   "execution_count": 9,
   "id": "48e28d70-a1ec-430e-af7b-98a63a49e96a",
   "metadata": {},
   "outputs": [
    {
     "name": "stdout",
     "output_type": "stream",
     "text": [
      "8\n"
     ]
    }
   ],
   "source": [
    "def add_numbers():\n",
    "    a = 5  # Local variable\n",
    "    b = 3  # Local variable\n",
    "    return a + b\n",
    "\n",
    "result = add_numbers()\n",
    "print(result)  # Output: 8\n",
    "# print(a)  # This would cause an error because 'a' is not accessible here\n",
    "# print(b)  # This would cause an error because 'b' is not accessible here\n"
   ]
  },
  {
   "cell_type": "code",
   "execution_count": 11,
   "id": "184b23c0-5de4-4f82-97ce-af133538be28",
   "metadata": {},
   "outputs": [
    {
     "name": "stdout",
     "output_type": "stream",
     "text": [
      "Hello, Ali\n",
      "Shahid\n"
     ]
    }
   ],
   "source": [
    "# Global variable\n",
    "name = \"Shahid\"\n",
    "\n",
    "def greet():\n",
    "    name = \"Ali\"  # Local variable with the same name as the global variable\n",
    "    print(\"Hello, \" + name)  # This uses the local variable\n",
    "\n",
    "greet()  # Output: Hello, Bob\n",
    "print(name)  # Output: Alice (global variable remains unchanged)\n"
   ]
  },
  {
   "cell_type": "code",
   "execution_count": 23,
   "id": "5874a3cc-f5d5-42b8-8c36-e6dad621fd79",
   "metadata": {},
   "outputs": [
    {
     "name": "stdout",
     "output_type": "stream",
     "text": [
      "Name: shahid, Age: 30\n"
     ]
    }
   ],
   "source": [
    "class PersonWithSelf:\n",
    "    def __init__(self, name, age):\n",
    "        self.name = name\n",
    "        self.age = age\n",
    "\n",
    "    def display_info(self):\n",
    "        print(f\"Name: {self.name}, Age: {self.age}\")\n",
    "\n",
    "# Creating an instance (or object) of PersonWithSelf\n",
    "person = PersonWithSelf(\"shahid\", 30)\n",
    "\n",
    "# Accessing methods of the instance\n",
    "person.display_info()  # Output: Name: shahid, Age: 30\n"
   ]
  },
  {
   "cell_type": "code",
   "execution_count": 19,
   "id": "f6dd2c33-73cb-4333-94af-acd8b83fd334",
   "metadata": {},
   "outputs": [
    {
     "name": "stdout",
     "output_type": "stream",
     "text": [
      "Starting the Toyota Camry\n",
      "Starting the Honda Civic\n",
      "Stopping the Toyota Camry\n",
      "Stopping the Honda Civic\n",
      "Toyota Camry 2020\n"
     ]
    }
   ],
   "source": [
    "class Car:\n",
    "    def __init__(self, make, model, year):\n",
    "        self.make = make\n",
    "        self.model = model\n",
    "        self.year = year\n",
    "\n",
    "    def start(self):\n",
    "        print(f\"Starting the {self.make} {self.model}\")\n",
    "\n",
    "    def stop(self):\n",
    "        print(f\"Stopping the {self.make} {self.model}\")\n",
    "\n",
    "# Creating instances of the Car class\n",
    "car1 = Car(\"Toyota\", \"Camry\", 2020)\n",
    "car2 = Car(\"Honda\", \"Civic\", 2019)\n",
    "\n",
    "# Using methods to interact with the instances\n",
    "car1.start()  # Output: Starting the Toyota Camry\n",
    "car2.start()  # Output: Starting the Honda Civic\n",
    "car1.stop()   # Output: Stopping the Toyota Camry\n",
    "car2.stop()   # Output: Stopping the Honda Civic\n",
    "\n",
    "# Accessing attributes directly (not recommended, breaks encapsulation)\n",
    "print(car1.make, car1.model, car1.year)  # Output: Toyota Camry 2020\n"
   ]
  },
  {
   "cell_type": "code",
   "execution_count": 25,
   "id": "33fe6bd9-ce3f-4131-9abc-8a1cea54ba3e",
   "metadata": {},
   "outputs": [
    {
     "name": "stdout",
     "output_type": "stream",
     "text": [
      "(0, 0)\n",
      "(0, 1)\n",
      "(1, 0)\n",
      "(1, 1)\n",
      "(2, 0)\n",
      "(2, 1)\n"
     ]
    }
   ],
   "source": [
    "for i in range(3):  # Outer loop\n",
    "    for j in range(2):  # Inner loop\n",
    "        print(f\"({i}, {j})\")"
   ]
  },
  {
   "cell_type": "code",
   "execution_count": 27,
   "id": "c86a824a-acc2-43cf-911a-862300211bec",
   "metadata": {},
   "outputs": [
    {
     "name": "stdout",
     "output_type": "stream",
     "text": [
      "Shahid is an adult.\n",
      "Ali is a minor.\n"
     ]
    }
   ],
   "source": [
    "class Person:\n",
    "    def __init__(self, name, age):\n",
    "        self.name = name\n",
    "        self.age = age\n",
    "\n",
    "    def check_age(self):\n",
    "        if self.age >= 18:\n",
    "            return f\"{self.name} is an adult.\"\n",
    "        else:\n",
    "            return f\"{self.name} is a minor.\"\n",
    "\n",
    "# Example usage\n",
    "person1 = Person(\"Shahid\", 20)\n",
    "person2 = Person(\"Ali\", 15)\n",
    "\n",
    "print(person1.check_age())  # Output: shahid is an adult.\n",
    "print(person2.check_age())  # Output: ali is a minor.\n"
   ]
  },
  {
   "cell_type": "code",
   "execution_count": 29,
   "id": "07482ff4-fcd7-408e-898c-ddd9d75c0905",
   "metadata": {},
   "outputs": [
    {
     "name": "stdout",
     "output_type": "stream",
     "text": [
      "Sedan is a car.\n",
      "Sportbike is a motorcycle.\n",
      "Tricycle is an unknown type of vehicle.\n"
     ]
    }
   ],
   "source": [
    "class Vehicle:\n",
    "    def __init__(self, name, wheels):\n",
    "        self.name = name\n",
    "        self.wheels = wheels\n",
    "\n",
    "    def check_type(self):\n",
    "        if self.wheels == 4:\n",
    "            return f\"{self.name} is a car.\"\n",
    "        elif self.wheels == 2:\n",
    "            return f\"{self.name} is a motorcycle.\"\n",
    "        else:\n",
    "            return f\"{self.name} is an unknown type of vehicle.\"\n",
    "\n",
    "# Example usage\n",
    "vehicle1 = Vehicle(\"Sedan\", 4)\n",
    "vehicle2 = Vehicle(\"Sportbike\", 2)\n",
    "vehicle3 = Vehicle(\"Tricycle\", 3)\n",
    "\n",
    "print(vehicle1.check_type())  # Output: Sedan is a car.\n",
    "print(vehicle2.check_type())  # Output: Sportbike is a motorcycle.\n",
    "print(vehicle3.check_type())  # Output: Tricycle is an unknown type of vehicle.\n"
   ]
  },
  {
   "cell_type": "code",
   "execution_count": 31,
   "id": "77b210b5-c02b-4291-a466-5c71be1433fb",
   "metadata": {},
   "outputs": [
    {
     "name": "stdout",
     "output_type": "stream",
     "text": [
      "It's hot.\n",
      "It's cold.\n",
      "The temperature is moderate.\n"
     ]
    }
   ],
   "source": [
    "class Temperature:\n",
    "    def __init__(self, value):\n",
    "        self.value = value\n",
    "\n",
    "    def check_temperature(self):\n",
    "        if self.value >= 30:\n",
    "            return \"It's hot.\"\n",
    "        elif self.value <= 15:\n",
    "            return \"It's cold.\"\n",
    "        else:\n",
    "            return \"The temperature is moderate.\"\n",
    "\n",
    "# Example usage\n",
    "temp1 = Temperature(35)\n",
    "temp2 = Temperature(10)\n",
    "temp3 = Temperature(22)\n",
    "\n",
    "print(temp1.check_temperature())  # Output: It's hot.\n",
    "print(temp2.check_temperature())  # Output: It's cold.\n",
    "print(temp3.check_temperature())  # Output: The temperature is moderate.\n"
   ]
  },
  {
   "cell_type": "code",
   "execution_count": 33,
   "id": "1100af6e-31e4-429b-93b0-575226ab373b",
   "metadata": {},
   "outputs": [
    {
     "name": "stdin",
     "output_type": "stream",
     "text": [
      "Enter your name:  shahid\n",
      "Enter your balance:  12\n"
     ]
    },
    {
     "name": "stdout",
     "output_type": "stream",
     "text": [
      "Your Account name is: shahid\n",
      "Your current balance is: Rs. 12.0\n",
      "\n",
      "Choose your option: \n",
      "1-Deposit\n",
      "2-Withdraw\n",
      "3-Check Balance\n",
      "4-Exit\n"
     ]
    },
    {
     "name": "stdin",
     "output_type": "stream",
     "text": [
      "Enter option:  2\n",
      "How much do you want to withdraw:  1\n"
     ]
    },
    {
     "name": "stdout",
     "output_type": "stream",
     "text": [
      "Your balance is now: Rs. 11.0\n",
      "\n",
      "Choose your option: \n",
      "1-Deposit\n",
      "2-Withdraw\n",
      "3-Check Balance\n",
      "4-Exit\n"
     ]
    },
    {
     "name": "stdin",
     "output_type": "stream",
     "text": [
      "Enter option:  4\n"
     ]
    }
   ],
   "source": [
    "class Person:\n",
    "    def __init__(self):\n",
    "        self.name = \"\"\n",
    "        self.balance = 0\n",
    "\n",
    "    def input_data(self):\n",
    "        self.name = input(\"Enter your name: \")\n",
    "        self.balance = float(input(\"Enter your balance: \"))\n",
    "\n",
    "    def display_data(self):\n",
    "        print(f\"Your Account name is: {self.name}\")\n",
    "        print(f\"Your current balance is: Rs. {self.balance}\")\n",
    "\n",
    "    def deposit(self, amount):\n",
    "        self.balance += amount\n",
    "        print(f\"Your balance is now: Rs. {self.balance}\")\n",
    "\n",
    "    def withdraw(self, amount):\n",
    "        if amount <= self.balance:\n",
    "            self.balance -= amount\n",
    "            print(f\"Your balance is now: Rs. {self.balance}\")\n",
    "        else:\n",
    "            print(\"Insufficient funds!\")\n",
    "\n",
    "    def check_balance(self):\n",
    "        print(f\"Your balance is: Rs. {self.balance}\")\n",
    "\n",
    "def main():\n",
    "    p1 = Person()\n",
    "    p1.input_data()\n",
    "    p1.display_data()\n",
    "\n",
    "    while True:\n",
    "        print(\"\\nChoose your option: \\n1-Deposit\\n2-Withdraw\\n3-Check Balance\\n4-Exit\")\n",
    "        option = int(input(\"Enter option: \"))\n",
    "\n",
    "        if option == 1:\n",
    "            deposit_amount = float(input(\"How much do you want to deposit: \"))\n",
    "            p1.deposit(deposit_amount)\n",
    "        elif option == 2:\n",
    "            withdraw_amount = float(input(\"How much do you want to withdraw: \"))\n",
    "            p1.withdraw(withdraw_amount)\n",
    "        elif option == 3:\n",
    "            p1.check_balance()\n",
    "        elif option == 4:\n",
    "            break\n",
    "        else:\n",
    "            print(\"Invalid option!\")\n",
    "\n",
    "if __name__ == \"__main__\":\n",
    "    main()\n"
   ]
  },
  {
   "cell_type": "code",
   "execution_count": 37,
   "id": "1a3f416f-e443-4e0e-807b-ff368c53f18a",
   "metadata": {},
   "outputs": [],
   "source": [
    "class Person:\n",
    "    def __init__(self):\n",
    "        self.name = \"\"\n",
    "        self.balance = 0\n",
    "\n",
    "    def input_data(self):\n",
    "        self.name = input(\"Enter your name: \")\n",
    "        self.balance = float(input(\"Enter your balance: \"))\n",
    "\n",
    "    def display_data(self):\n",
    "        print(f\"Your Account name is: {self.name}\")\n",
    "        print(f\"Your current balance is: Rs. {self.balance}\")\n",
    "\n",
    "    def deposit(self, amount):\n",
    "        self.balance += amount\n",
    "        print(f\"Your balance is now: Rs. {self.balance}\")\n",
    "\n",
    "    def withdraw(self, amount):\n",
    "        if amount <= self.balance:\n",
    "            self.balance -= amount\n",
    "            print(f\"Your balance is now: Rs. {self.balance}\")\n",
    "        else:\n",
    "            print(\"Insufficient funds!\")\n",
    "\n",
    "    def check_balance(self):\n",
    "        print(f\"Your balance is: Rs. {self.balance}\")\n",
    "\n",
    "def main():\n",
    "    p1 = Person()\n",
    "    p1.input_data()\n",
    "    p1.display_data()\n",
    "\n",
    "    while True:\n",
    "        print(\"\\nChoose your option: \\n1-Deposit\\n2-Withdraw\\n3-Check Balance\\n4-Exit\")\n",
    "        option = int(input(\"Enter option: \"))\n",
    "\n",
    "        if option == 1:\n",
    "            deposit_amount = float(input(\"How much do you want to deposit: \"))\n",
    "            p1.deposit(deposit_amount)\n",
    "        elif option == 2:\n",
    "            withdraw_amount = float(input(\"How much do you want to withdraw: \"))\n",
    "            p1.withdraw(withdraw_amount)\n",
    "        elif option == 3:\n",
    "            p1.check_balance()\n",
    "        elif option == 4:\n",
    "            break\n",
    "        else:\n",
    "            print(\"Invalid option!\")\n",
    "\n"
   ]
  },
  {
   "cell_type": "code",
   "execution_count": 39,
   "id": "469ab942-35f9-4e5d-9423-aeb7d3a37573",
   "metadata": {},
   "outputs": [
    {
     "name": "stdin",
     "output_type": "stream",
     "text": [
      "Enter your name:  shahid\n",
      "Enter your age:  19\n",
      "Enter your balance:  12\n"
     ]
    },
    {
     "name": "stdout",
     "output_type": "stream",
     "text": [
      "Name: shahid\n",
      "Age: 19\n",
      "Balance: 12.0\n"
     ]
    }
   ],
   "source": [
    "class Person:\n",
    "    def __init__(self):\n",
    "        self.name = \"\"        # String data member\n",
    "        self.age = None       # Integer data member, initially None\n",
    "        self.balance = None   # Float data member, initially None\n",
    "\n",
    "    def input_data(self):\n",
    "        self.name = input(\"Enter your name: \")           \n",
    "        self.age = int(input(\"Enter your age: \"))        \n",
    "        self.balance = float(input(\"Enter your balance: \"))  \n",
    "\n",
    "    def display_data(self):\n",
    "        print(f\"Name: {self.name}\")           \n",
    "        print(f\"Age: {self.age}\")             \n",
    "        print(f\"Balance: {self.balance}\")     \n",
    "\n",
    "def main():\n",
    "    person = Person()\n",
    "    person.input_data()\n",
    "    person.display_data()\n",
    "\n",
    "if __name__ == \"__main__\":\n",
    "    main()\n"
   ]
  },
  {
   "cell_type": "code",
   "execution_count": 45,
   "id": "cd804cb9-1efc-418c-ac07-0e2f7236d41d",
   "metadata": {},
   "outputs": [
    {
     "name": "stdin",
     "output_type": "stream",
     "text": [
      "Enter your name:  shahid\n",
      "Enter your age:  18\n",
      "Enter your balance:  16\n"
     ]
    },
    {
     "name": "stdout",
     "output_type": "stream",
     "text": [
      "Name: shahid\n",
      "Age: 18\n",
      "Balance: 16.0\n"
     ]
    }
   ],
   "source": [
    "class Person:\n",
    "    def __init__(self):\n",
    "        self.name = \"\"        # String data member\n",
    "        self.age = 18         # Default age set to 18\n",
    "        self.balance = 100.0  # Default balance set to 100.0\n",
    "\n",
    "    def input_data(self):\n",
    "        self.name = input(\"Enter your name: \")           \n",
    "        self.age = int(input(\"Enter your age: \"))        \n",
    "        self.balance = float(input(\"Enter your balance: \"))  \n",
    "\n",
    "    def display_data(self):\n",
    "        print(f\"Name: {self.name}\")           \n",
    "        print(f\"Age: {self.age}\")             \n",
    "        print(f\"Balance: {self.balance}\")     \n",
    "\n",
    "def main():\n",
    "    person = Person()\n",
    "    person.input_data()\n",
    "    person.display_data()\n",
    "\n",
    "if __name__ == \"__main__\":\n",
    "    main()\n"
   ]
  },
  {
   "cell_type": "code",
   "execution_count": 47,
   "id": "4dc25c3b-f4d0-4d6d-9711-773ce44c8881",
   "metadata": {},
   "outputs": [
    {
     "name": "stdin",
     "output_type": "stream",
     "text": [
      "Enter your name:  shahid\n"
     ]
    },
    {
     "name": "stdout",
     "output_type": "stream",
     "text": [
      "Name: shahid\n",
      "Age: 18\n",
      "Balance: 100.0\n"
     ]
    }
   ],
   "source": [
    "class Person:\n",
    "    def __init__(self):\n",
    "        self.name = \"\"        # String data member\n",
    "        self.age = 18         # Default age set to 18\n",
    "        self.balance = 100.0  # Default balance set to 100.0\n",
    "\n",
    "    def input_data(self):\n",
    "        self.name = input(\"Enter your name: \")           \n",
    "     \n",
    "\n",
    "    def display_data(self):\n",
    "        print(f\"Name: {self.name}\")           \n",
    "        print(f\"Age: {self.age}\")             \n",
    "        print(f\"Balance: {self.balance}\")     \n",
    "\n",
    "def main():\n",
    "    person = Person()\n",
    "    person.input_data()\n",
    "    person.display_data()\n",
    "\n",
    "if __name__ == \"__main__\":\n",
    "    main()\n"
   ]
  },
  {
   "cell_type": "code",
   "execution_count": 64,
   "id": "3fccbbfd-67fc-469d-b232-528ead9fc86a",
   "metadata": {},
   "outputs": [
    {
     "name": "stdout",
     "output_type": "stream",
     "text": [
      "Name: Shahid, Age: 30\n",
      "Employee ID: E12345\n"
     ]
    }
   ],
   "source": [
    "# Base class\n",
    "class Person:\n",
    "    def __init__(self, name, age):\n",
    "        self.name = name\n",
    "        self.age = age\n",
    "    \n",
    "    def display(self):\n",
    "        print(f\"Name: {self.name}, Age: {self.age}\")\n",
    "\n",
    "# Derived class\n",
    "class Employee(Person):\n",
    "    def __init__(self, name, age, employee_id):\n",
    "        super().__init__(name, age)  # Initialize the base class attributes\n",
    "        self.employee_id = employee_id\n",
    "    \n",
    "    def display_employee(self):\n",
    "        self.display()  # Call the method from the base class\n",
    "        print(f\"Employee ID: {self.employee_id}\")\n",
    "\n",
    "# Main function\n",
    "def main():\n",
    "    # Creating an object of the derived class\n",
    "    emp = Employee(\"Shahid\", 30, \"E12345\")\n",
    "    emp.display_employee()\n",
    "   \n",
    "\n",
    "if __name__ == \"__main__\":\n",
    "    main()\n"
   ]
  },
  {
   "cell_type": "code",
   "execution_count": 66,
   "id": "13cdaba8-91b2-4606-bda8-71df18af5702",
   "metadata": {},
   "outputs": [
    {
     "name": "stdout",
     "output_type": "stream",
     "text": [
      "Name: Shahid\n",
      "Age: 25\n",
      "Height: 1.75 meters\n",
      "Balance: Rs. 1500.5\n"
     ]
    }
   ],
   "source": [
    "class Sample:\n",
    "    def __init__(self, name, age, height, balance):\n",
    "        self.name = name        # String data member\n",
    "        self.age = age          # Integer data member\n",
    "        self.height = height    # Float data member\n",
    "        self.balance = balance  # Float data member, equivalent to double in other languages\n",
    "\n",
    "    def display_data(self):\n",
    "        print(f\"Name: {self.name}\")\n",
    "        print(f\"Age: {self.age}\")\n",
    "        print(f\"Height: {self.height} meters\")\n",
    "        print(f\"Balance: Rs. {self.balance}\")\n",
    "\n",
    "def main():\n",
    "    # Create an instance of Sample and assign values to data members directly\n",
    "    sample = Sample(\"Shahid\", 25, 1.75, 1500.50)\n",
    "    sample.display_data()\n",
    "\n",
    "if __name__ == \"__main__\":\n",
    "    main()\n"
   ]
  },
  {
   "cell_type": "code",
   "execution_count": 68,
   "id": "79ceb503-b9d9-4a16-b4d9-06378d54efef",
   "metadata": {},
   "outputs": [
    {
     "name": "stdin",
     "output_type": "stream",
     "text": [
      "Enter your name:  shahid\n",
      "Enter your age:  30\n",
      "Enter your height in meters:  15\n",
      "Enter your bank balance:  12\n"
     ]
    },
    {
     "name": "stdout",
     "output_type": "stream",
     "text": [
      "Name: shahid\n",
      "Age: 30\n",
      "Height: 15.0 meters\n",
      "Balance: Rs. 12.0\n"
     ]
    }
   ],
   "source": [
    "class Intro:\n",
    "    def __init__(self):\n",
    "        self.name = \"\"         # String data member\n",
    "        self.age = 0           # Integer data member\n",
    "        self.height = 0.0      # Float data member\n",
    "        self.balance = 0.0     # Float data member, equivalent to double in other languages\n",
    "\n",
    "    def input_data(self):\n",
    "        self.name = input(\"Enter your name: \")\n",
    "        self.age = int(input(\"Enter your age: \"))\n",
    "        self.height = float(input(\"Enter your height in meters: \"))\n",
    "        self.balance = float(input(\"Enter your bank balance: \"))\n",
    "\n",
    "    def display_data(self):\n",
    "        print(f\"Name: {self.name}\")\n",
    "        print(f\"Age: {self.age}\")\n",
    "        print(f\"Height: {self.height} meters\")\n",
    "        print(f\"Balance: Rs. {self.balance}\")\n",
    "\n",
    "def main():\n",
    "    intro = Intro()\n",
    "    intro.input_data()\n",
    "    intro.display_data()\n",
    "\n",
    "if __name__ == \"__main__\":\n",
    "    main()\n"
   ]
  },
  {
   "cell_type": "code",
   "execution_count": 70,
   "id": "0cfbb7c1-51df-46bf-91f2-5d1fa5338cfc",
   "metadata": {},
   "outputs": [
    {
     "name": "stdout",
     "output_type": "stream",
     "text": [
      "Name: Shahid, Age: 30\n",
      "Employee ID: E12345\n",
      "Salary for 40 hours at rate Rs.50/hour is Rs.2000\n"
     ]
    }
   ],
   "source": [
    "# Base class\n",
    "class Person:\n",
    "    def __init__(self, name, age):\n",
    "        self.name = name\n",
    "        self.age = age\n",
    "    \n",
    "    def display(self):\n",
    "        print(f\"Name: {self.name}, Age: {self.age}\")\n",
    "\n",
    "# Derived class\n",
    "class Employee(Person):\n",
    "    def __init__(self, name, age, employee_id):\n",
    "        super().__init__(name, age)  # Initialize the base class attributes\n",
    "        self.employee_id = employee_id\n",
    "    \n",
    "    def display_employee(self):\n",
    "        self.display()  # Call the method from the base class\n",
    "        print(f\"Employee ID: {self.employee_id}\")\n",
    "\n",
    "    def calculate_salary(self, hours_worked, hourly_rate):\n",
    "        salary = hours_worked * hourly_rate\n",
    "        print(f\"Salary for {hours_worked} hours at rate Rs.{hourly_rate}/hour is Rs.{salary}\")\n",
    "\n",
    "# Main function\n",
    "def main():\n",
    "    # Creating an object of the derived class\n",
    "    emp = Employee(\"Shahid\", 30, \"E12345\")\n",
    "    emp.display_employee()\n",
    "    \n",
    "    # Call the new method to calculate salary\n",
    "    emp.calculate_salary(40, 50)  # Example: 40 hours worked at Rs.50/hour\n",
    "\n",
    "if __name__ == \"__main__\":\n",
    "    main()\n"
   ]
  },
  {
   "cell_type": "code",
   "execution_count": 72,
   "id": "09c4adef-64ce-4935-8e75-718218c36f71",
   "metadata": {},
   "outputs": [
    {
     "name": "stdin",
     "output_type": "stream",
     "text": [
      "Enter the employee's name:  shahid\n",
      "Enter the employee's age:  30\n",
      "Enter the employee's ID:  123\n"
     ]
    },
    {
     "name": "stdout",
     "output_type": "stream",
     "text": [
      "Name: shahid, Age: 30\n",
      "Employee ID: 123\n"
     ]
    },
    {
     "name": "stdin",
     "output_type": "stream",
     "text": [
      "Enter the number of hours worked:  20\n",
      "Enter the hourly rate:  12\n"
     ]
    },
    {
     "name": "stdout",
     "output_type": "stream",
     "text": [
      "Salary for 20.0 hours at rate Rs.12.0/hour is Rs.240.0\n"
     ]
    }
   ],
   "source": [
    "# Base class\n",
    "class Person:\n",
    "    def __init__(self, name, age):\n",
    "        self.name = name\n",
    "        self.age = age\n",
    "    \n",
    "    def display(self):\n",
    "        print(f\"Name: {self.name}, Age: {self.age}\")\n",
    "\n",
    "# Derived class\n",
    "class Employee(Person):\n",
    "    def __init__(self, name, age, employee_id):\n",
    "        super().__init__(name, age)  # Initialize the base class attributes\n",
    "        self.employee_id = employee_id\n",
    "    \n",
    "    def display_employee(self):\n",
    "        self.display()  # Call the method from the base class\n",
    "        print(f\"Employee ID: {self.employee_id}\")\n",
    "\n",
    "    def calculate_salary(self, hours_worked, hourly_rate):\n",
    "        salary = hours_worked * hourly_rate\n",
    "        print(f\"Salary for {hours_worked} hours at rate Rs.{hourly_rate}/hour is Rs.{salary}\")\n",
    "\n",
    "# Main function\n",
    "def main():\n",
    "    # Taking input from the user\n",
    "    name = input(\"Enter the employee's name: \")\n",
    "    age = int(input(\"Enter the employee's age: \"))\n",
    "    employee_id = input(\"Enter the employee's ID: \")\n",
    "    \n",
    "    # Creating an object of the derived class\n",
    "    emp = Employee(name, age, employee_id)\n",
    "    emp.display_employee()\n",
    "    \n",
    "    # Taking input for salary calculation\n",
    "    hours_worked = float(input(\"Enter the number of hours worked: \"))\n",
    "    hourly_rate = float(input(\"Enter the hourly rate: \"))\n",
    "    \n",
    "    # Call the new method to calculate salary\n",
    "    emp.calculate_salary(hours_worked, hourly_rate)  # Example: 40 hours worked at Rs.50/hour\n",
    "\n",
    "if __name__ == \"__main__\":\n",
    "    main()\n"
   ]
  },
  {
   "cell_type": "code",
   "execution_count": 76,
   "id": "4e8994ed-61ea-4c5b-95fb-965b4bfc5342",
   "metadata": {},
   "outputs": [
    {
     "name": "stdin",
     "output_type": "stream",
     "text": [
      "Enter the employee's name:  shahid\n",
      "Enter the employee's age:  23\n",
      "Enter the employee's ID:  123\n"
     ]
    },
    {
     "name": "stdout",
     "output_type": "stream",
     "text": [
      "Name: shahid, Age: 23\n",
      "Employee ID: 123\n",
      "Hello, Employee!\n"
     ]
    },
    {
     "name": "stdin",
     "output_type": "stream",
     "text": [
      "Enter the number of hours worked:  5\n",
      "Enter the hourly rate:  12\n"
     ]
    },
    {
     "name": "stdout",
     "output_type": "stream",
     "text": [
      "Salary for 5.0 hours at rate Rs.12.0/hour is Rs.60.0\n"
     ]
    }
   ],
   "source": [
    "# Base class\n",
    "class Person:\n",
    "    def __init__(self, name, age):\n",
    "        self.name = name\n",
    "        self.age = age\n",
    "    \n",
    "    def display(self):\n",
    "        print(f\"Name: {self.name}, Age: {self.age}\")\n",
    "\n",
    "    def greet(self):\n",
    "        print(\"Hello!\")\n",
    "\n",
    "# Derived class\n",
    "class Employee(Person):\n",
    "    def __init__(self, name, age, employee_id):\n",
    "        super().__init__(name, age)  # Initialize the base class attributes\n",
    "        self.employee_id = employee_id\n",
    "    \n",
    "    def display(self):  # Overriding the display method\n",
    "        super().display()  # Optionally, call the base class method\n",
    "        print(f\"Employee ID: {self.employee_id}\")\n",
    "\n",
    "    def greet(self):  # Overriding the greet method\n",
    "        print(\"Hello, Employee!\")\n",
    "\n",
    "    def calculate_salary(self, hours_worked, hourly_rate):\n",
    "        salary = hours_worked * hourly_rate\n",
    "        print(f\"Salary for {hours_worked} hours at rate Rs.{hourly_rate}/hour is Rs.{salary}\")\n",
    "\n",
    "# Main function\n",
    "def main():\n",
    "    # Taking input from the user\n",
    "    name = input(\"Enter the employee's name: \")\n",
    "    age = int(input(\"Enter the employee's age: \"))\n",
    "    employee_id = input(\"Enter the employee's ID: \")\n",
    "    \n",
    "    # Creating an object of the derived class\n",
    "    emp = Employee(name, age, employee_id)\n",
    "    emp.display()  # Call overridden display method\n",
    "    \n",
    "    # Call overridden greet method\n",
    "    emp.greet()\n",
    "    \n",
    "    # Taking input for salary calculation\n",
    "    hours_worked = float(input(\"Enter the number of hours worked: \"))\n",
    "    hourly_rate = float(input(\"Enter the hourly rate: \"))\n",
    "    \n",
    "    # Call the method to calculate salary\n",
    "    emp.calculate_salary(hours_worked, hourly_rate)  # Example: 40 hours worked at Rs.50/hour\n",
    "\n",
    "if __name__ == \"__main__\":\n",
    "    main()\n"
   ]
  },
  {
   "cell_type": "code",
   "execution_count": 78,
   "id": "b7fe2285-b2c3-4cce-b244-092fd6ce3efe",
   "metadata": {},
   "outputs": [
    {
     "name": "stdout",
     "output_type": "stream",
     "text": [
      "Name: Shahid, Age: 30\n",
      "Employee ID: E12345\n",
      "Hello, Employee!\n",
      "Salary for 40 hours at rate Rs.50/hour is Rs.2000\n"
     ]
    }
   ],
   "source": [
    "# Base class\n",
    "class Person:\n",
    "    def __init__(self, name, age):\n",
    "        self.name = name\n",
    "        self.age = age\n",
    "    \n",
    "    def display(self):\n",
    "        print(f\"Name: {self.name}, Age: {self.age}\")\n",
    "\n",
    "    def greet(self):\n",
    "        print(\"Hello!\")\n",
    "\n",
    "# Derived class\n",
    "class Employee(Person):\n",
    "    def __init__(self, name, age, employee_id):\n",
    "        super().__init__(name, age)  # Initialize the base class attributes\n",
    "        self.employee_id = employee_id\n",
    "    \n",
    "    def display(self):  # Overriding the display method\n",
    "        super().display()  # Optionally, call the base class method\n",
    "        print(f\"Employee ID: {self.employee_id}\")\n",
    "\n",
    "    def greet(self):  # Overriding the greet method\n",
    "        print(\"Hello, Employee!\")\n",
    "\n",
    "    def calculate_salary(self, hours_worked, hourly_rate):\n",
    "        salary = hours_worked * hourly_rate\n",
    "        print(f\"Salary for {hours_worked} hours at rate Rs.{hourly_rate}/hour is Rs.{salary}\")\n",
    "\n",
    "# Main function\n",
    "def main():\n",
    "    # Using predefined values\n",
    "    name = \"Shahid\"\n",
    "    age = 30\n",
    "    employee_id = \"E12345\"\n",
    "    \n",
    "    # Creating an object of the derived class\n",
    "    emp = Employee(name, age, employee_id)\n",
    "    emp.display()  # Call overridden display method\n",
    "    \n",
    "    # Call overridden greet method\n",
    "    emp.greet()\n",
    "    \n",
    "    # Predefined values for salary calculation\n",
    "    hours_worked = 40\n",
    "    hourly_rate = 50\n",
    "    \n",
    "    # Call the method to calculate salary\n",
    "    emp.calculate_salary(hours_worked, hourly_rate)  # Example: 40 hours worked at Rs.50/hour\n",
    "\n",
    "if __name__ == \"__main__\":\n",
    "    main()\n"
   ]
  },
  {
   "cell_type": "code",
   "execution_count": 80,
   "id": "f1e85743-3b40-4e05-8171-9f0fd998dfbd",
   "metadata": {},
   "outputs": [
    {
     "name": "stdout",
     "output_type": "stream",
     "text": [
      "Division successful!\n",
      "Execution of the divide function is complete.\n",
      "5.0\n",
      "Error: Division by zero is not allowed.\n",
      "Execution of the divide function is complete.\n",
      "None\n",
      "Error: Please provide numbers for division.\n",
      "Execution of the divide function is complete.\n",
      "None\n"
     ]
    }
   ],
   "source": [
    "def divide(a, b):\n",
    "    try:\n",
    "        result = a / b\n",
    "    except ZeroDivisionError:\n",
    "        print(\"Error: Division by zero is not allowed.\")\n",
    "        return None\n",
    "    except TypeError:\n",
    "        print(\"Error: Please provide numbers for division.\")\n",
    "        return None\n",
    "    else:\n",
    "        print(\"Division successful!\")\n",
    "        return result\n",
    "    finally:\n",
    "        print(\"Execution of the divide function is complete.\")\n",
    "\n",
    "# Test cases\n",
    "print(divide(10, 2))  # Should print 5.0\n",
    "print(divide(10, 0))  # Should print error message for division by zero\n",
    "print(divide(10, 'a'))  # Should print error message for type error\n"
   ]
  },
  {
   "cell_type": "code",
   "execution_count": 82,
   "id": "2452d6ea-3cfd-4bd8-b476-00fd32139358",
   "metadata": {},
   "outputs": [
    {
     "name": "stdin",
     "output_type": "stream",
     "text": [
      "Enter the numerator:  1\n",
      "Enter the denominator:  2\n"
     ]
    },
    {
     "name": "stdout",
     "output_type": "stream",
     "text": [
      "Division successful!\n",
      "Execution of the divide function is complete.\n",
      "The result of 1.0 / 2.0 is 0.5\n"
     ]
    }
   ],
   "source": [
    "def divide(a, b):\n",
    "    try:\n",
    "        result = a / b\n",
    "    except ZeroDivisionError:\n",
    "        print(\"Error: Division by zero is not allowed.\")\n",
    "        return None\n",
    "    except TypeError:\n",
    "        print(\"Error: Please provide numbers for division.\")\n",
    "        return None\n",
    "    else:\n",
    "        print(\"Division successful!\")\n",
    "        return result\n",
    "    finally:\n",
    "        print(\"Execution of the divide function is complete.\")\n",
    "\n",
    "def main():\n",
    "    try:\n",
    "        a = float(input(\"Enter the numerator: \"))\n",
    "        b = float(input(\"Enter the denominator: \"))\n",
    "    except ValueError:\n",
    "        print(\"Error: Please enter valid numbers.\")\n",
    "        return\n",
    "    \n",
    "    result = divide(a, b)\n",
    "    if result is not None:\n",
    "        print(f\"The result of {a} / {b} is {result}\")\n",
    "\n",
    "if __name__ == \"__main__\":\n",
    "    main()\n"
   ]
  },
  {
   "cell_type": "code",
   "execution_count": null,
   "id": "60e99c1a-0be5-467e-b8e4-31316836f778",
   "metadata": {},
   "outputs": [],
   "source": [
    "def divide(a, b):\n",
    "    try:\n",
    "        result = a / b\n",
    "    except ZeroDivisionError:\n",
    "        print(\"Error: Division by zero is not allowed.\")\n",
    "        return None\n",
    "    except TypeError:\n",
    "        print(\"Error: Please provide numbers for division.\")\n",
    "        return None\n",
    "    else:\n",
    "        print(\"Division successful!\")\n",
    "        return result\n",
    "    finally:\n",
    "        print(\"Execution of the divide function is complete.\")\n",
    "\n",
    "def main():\n",
    "    try:\n",
    "        a = float(input(\"Enter the numerator: \"))\n",
    "        b = float(input(\"Enter the denominator: \"))\n",
    "    except ValueError:\n",
    "        print(\"Error: Please enter valid numbers.\")\n",
    "        return\n",
    "    \n",
    "    result = divide(a, b)\n",
    "    if result is not None:\n",
    "        print(f\"The result of {a} / {b} is {result}\")\n",
    "\n",
    "if __name__ == \"__main__\":\n",
    "    main()\n"
   ]
  },
  {
   "cell_type": "code",
   "execution_count": null,
   "id": "b0d3cd98-0561-4d37-b206-19c3ec69cbe7",
   "metadata": {},
   "outputs": [],
   "source": []
  }
 ],
 "metadata": {
  "kernelspec": {
   "display_name": "Python 3 (ipykernel)",
   "language": "python",
   "name": "python3"
  },
  "language_info": {
   "codemirror_mode": {
    "name": "ipython",
    "version": 3
   },
   "file_extension": ".py",
   "mimetype": "text/x-python",
   "name": "python",
   "nbconvert_exporter": "python",
   "pygments_lexer": "ipython3",
   "version": "3.11.7"
  }
 },
 "nbformat": 4,
 "nbformat_minor": 5
}
