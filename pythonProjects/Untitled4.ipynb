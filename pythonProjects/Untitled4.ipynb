{
 "cells": [
  {
   "cell_type": "code",
   "execution_count": 1,
   "id": "8e6c144e-14ec-445b-bc37-e42d7e0f96f0",
   "metadata": {},
   "outputs": [
    {
     "name": "stdout",
     "output_type": "stream",
     "text": [
      "Name: Shahid, Age: 30\n",
      "Employee ID: E12345\n",
      "Salary for 40 hours at rate Rs.50/hour is Rs.2000\n"
     ]
    }
   ],
   "source": [
    "# Base class\n",
    "class Person:\n",
    "    def __init__(self, name, age):\n",
    "        self.name = name\n",
    "        self.age = age\n",
    "    \n",
    "    def display(self):\n",
    "        print(f\"Name: {self.name}, Age: {self.age}\")\n",
    "\n",
    "# Derived class\n",
    "class Employee(Person):\n",
    "    def __init__(self, name, age, employee_id):\n",
    "        super().__init__(name, age)  # Initialize the base class attributes\n",
    "        self.employee_id = employee_id\n",
    "    \n",
    "    def display_employee(self):\n",
    "        self.display()  # Call the method from the base class\n",
    "        print(f\"Employee ID: {self.employee_id}\")\n",
    "\n",
    "    def calculate_salary(self, hours_worked, hourly_rate):\n",
    "        salary = hours_worked * hourly_rate\n",
    "        print(f\"Salary for {hours_worked} hours at rate Rs.{hourly_rate}/hour is Rs.{salary}\")\n",
    "\n",
    "# Main function\n",
    "def main():\n",
    "    # Creating an object of the derived class\n",
    "    emp = Employee(\"Shahid\", 30, \"E12345\")\n",
    "    emp.display_employee()\n",
    "    \n",
    "    # Call the new method to calculate salary\n",
    "    emp.calculate_salary(40, 50)  # Example: 40 hours worked at Rs.50/hour\n",
    "\n",
    "if __name__ == \"__main__\":\n",
    "    main()\n"
   ]
  },
  {
   "cell_type": "code",
   "execution_count": 14,
   "id": "86027974-5f58-4b8e-8e1b-761dbc5b009b",
   "metadata": {},
   "outputs": [
    {
     "name": "stdout",
     "output_type": "stream",
     "text": [
      "Name: Shahid, Age: 30\n",
      "Employee ID: E12345\n",
      "Name: Shahid, Age: 30\n",
      "Salary for 40 hours at rate Rs.50/hour is Rs.2000\n"
     ]
    }
   ],
   "source": [
    "class Person:\n",
    "    def __init__(self, name, age):\n",
    "        self.name = name\n",
    "        self.age = age\n",
    "    \n",
    "    def display(self):\n",
    "        print(f\"Name: {self.name}, Age: {self.age}\")\n",
    "\n",
    "# Derived class\n",
    "class Employee(Person):\n",
    "    def __init__(self, name, age, employee_id):\n",
    "        super().__init__(name, age)  # Initialize the base class attributes\n",
    "        self.employee_id = employee_id\n",
    "    \n",
    "    def display_employee(self):\n",
    "        self.display()  # Call the method from the base class\n",
    "        print(f\"Employee ID: {self.employee_id}\")\n",
    "\n",
    "    def calculate_salary(self, hours_worked, hourly_rate):\n",
    "        salary = hours_worked * hourly_rate\n",
    "        print(f\"Salary for {hours_worked} hours at rate Rs.{hourly_rate}/hour is Rs.{salary}\")\n",
    "\n",
    "# Main function\n",
    "def main():\n",
    "    # Creating an object of the derived class\n",
    "    emp = Employee(\"Shahid\", 30, \"E12345\")\n",
    "    emp.display_employee()\n",
    "    emp.display()\n",
    "     \n",
    "    # Call the new method to calculate salary\n",
    "    emp.calculate_salary(40, 50)  # Example: 40 hours worked at Rs.50/hour\n",
    "\n",
    "if __name__ == \"__main__\":\n",
    "    main()\n"
   ]
  },
  {
   "cell_type": "code",
   "execution_count": 1,
   "id": "8d570321-a623-452c-b144-4bae8a5dcd82",
   "metadata": {},
   "outputs": [
    {
     "name": "stdout",
     "output_type": "stream",
     "text": [
      "Employee: Shahid, ID: 101\n",
      "Manager: Ali, ID: 102, Department: Sales\n",
      "Director: Irtaza, ID: 103, Department: Sales, Region: North America\n"
     ]
    }
   ],
   "source": [
    "# Base class\n",
    "class Employee:\n",
    "    def __init__(self, name, employee_id):\n",
    "        self.name = name\n",
    "        self.employee_id = employee_id\n",
    "\n",
    "    def display_info(self):\n",
    "        return f\"Employee: {self.name}, ID: {self.employee_id}\"\n",
    "\n",
    "# Derived class 1 (inherits from Employee)\n",
    "class Manager(Employee):\n",
    "    def __init__(self, name, employee_id, department):\n",
    "        super().__init__(name, employee_id)\n",
    "        self.department = department\n",
    "\n",
    "    def display_info(self):\n",
    "        return f\"Manager: {self.name}, ID: {self.employee_id}, Department: {self.department}\"\n",
    "\n",
    "# Derived class 2 (inherits from Manager)\n",
    "class Director(Manager):\n",
    "    def __init__(self, name, employee_id, department, region):\n",
    "        super().__init__(name, employee_id, department)\n",
    "        self.region = region\n",
    "\n",
    "    def display_info(self):\n",
    "        return f\"Director: {self.name}, ID: {self.employee_id}, Department: {self.department}, Region: {self.region}\"\n",
    "\n",
    "def main():\n",
    "    employee = Employee(\"Shahid\", 101)\n",
    "    print(employee.display_info())  # Output: Employee: Shahid, ID: 101\n",
    "\n",
    "    manager = Manager(\"Ali\", 102, \"Sales\")\n",
    "    print(manager.display_info())   # Output: Manager: Ali, ID: 102, Department: Sales\n",
    "\n",
    "    director = Director(\"Irtaza\", 103, \"Sales\", \"North America\")\n",
    "    print(director.display_info())  # Output: Director: Irtaza, ID: 103, Department: Sales, Region: North America\n",
    "\n",
    "if __name__ == \"__main__\":\n",
    "    main()\n"
   ]
  },
  {
   "cell_type": "code",
   "execution_count": 5,
   "id": "27b1dbb4-26a5-4bcc-96c3-17bee3b3ef0f",
   "metadata": {},
   "outputs": [
    {
     "name": "stdout",
     "output_type": "stream",
     "text": [
      "\n",
      "Select the type of employee to create:\n",
      "1. Employee\n",
      "2. Manager\n",
      "3. Director\n",
      "4. Exit\n"
     ]
    },
    {
     "name": "stdin",
     "output_type": "stream",
     "text": [
      "Enter your choice (1-4):  1\n",
      "Enter the employee's name:  shahid\n",
      "Enter the employee's ID:  102\n"
     ]
    },
    {
     "name": "stdout",
     "output_type": "stream",
     "text": [
      "Employee: shahid, ID: 102\n",
      "\n",
      "Select the type of employee to create:\n",
      "1. Employee\n",
      "2. Manager\n",
      "3. Director\n",
      "4. Exit\n"
     ]
    },
    {
     "name": "stdin",
     "output_type": "stream",
     "text": [
      "Enter your choice (1-4):  3\n",
      "Enter the director's name:  ali\n",
      "Enter the director's ID:  101\n",
      "Enter the director's department:  depart\n",
      "Enter the director's region:  asia\n"
     ]
    },
    {
     "name": "stdout",
     "output_type": "stream",
     "text": [
      "Director: ali, ID: 101, Department: depart, Region: asia\n",
      "Director: ali, Employee ID: 101, Department: depart, Region: asia\n",
      "\n",
      "Select the type of employee to create:\n",
      "1. Employee\n",
      "2. Manager\n",
      "3. Director\n",
      "4. Exit\n"
     ]
    },
    {
     "name": "stdin",
     "output_type": "stream",
     "text": [
      "Enter your choice (1-4):  \n"
     ]
    },
    {
     "name": "stdout",
     "output_type": "stream",
     "text": [
      "Invalid choice. Please try again.\n",
      "\n",
      "Select the type of employee to create:\n",
      "1. Employee\n",
      "2. Manager\n",
      "3. Director\n",
      "4. Exit\n"
     ]
    },
    {
     "name": "stdin",
     "output_type": "stream",
     "text": [
      "Enter your choice (1-4):  4\n"
     ]
    }
   ],
   "source": [
    "### Base class\n",
    "class Employee:\n",
    "    def __init__(self, name, employee_id):\n",
    "        self.name = name\n",
    "        self.employee_id = employee_id\n",
    "\n",
    "    def display_info(self):\n",
    "        return f\"Employee: {self.name}, ID: {self.employee_id}\"\n",
    "    \n",
    "    def basic_info(self):\n",
    "        return f\"Name: {self.name}, Employee ID: {self.employee_id}\"\n",
    "\n",
    "# Derived class 1 (inherits from Employee)\n",
    "class Manager(Employee):\n",
    "    def __init__(self, name, employee_id, department):\n",
    "        super().__init__(name, employee_id)\n",
    "        self.department = department\n",
    "\n",
    "    def display_info(self):\n",
    "        return f\"Manager: {self.name}, ID: {self.employee_id}, Department: {self.department}\"\n",
    "\n",
    "# Derived class 2 (inherits from Manager)\n",
    "class Director(Manager):\n",
    "    def __init__(self, name, employee_id, department, region):\n",
    "        super().__init__(name, employee_id, department)\n",
    "        self.region = region\n",
    "\n",
    "    def display_info(self):\n",
    "        return f\"Director: {self.name}, ID: {self.employee_id}, Department: {self.department}, Region: {self.region}\"\n",
    "\n",
    "    def basic_info(self):\n",
    "        return f\"Director: {self.name}, Employee ID: {self.employee_id}, Department: {self.department}, Region: {self.region}\"\n",
    "\n",
    "def main():\n",
    "    while True:\n",
    "        print(\"\\nSelect the type of employee to create:\")\n",
    "        print(\"1. Employee\")\n",
    "        print(\"2. Manager\")\n",
    "        print(\"3. Director\")\n",
    "        print(\"4. Exit\")\n",
    "        choice = input(\"Enter your choice (1-4): \")\n",
    "\n",
    "        if choice == '1':\n",
    "            name = input(\"Enter the employee's name: \")\n",
    "            employee_id = input(\"Enter the employee's ID: \")\n",
    "            employee = Employee(name, employee_id)\n",
    "            print(employee.display_info())\n",
    "\n",
    "        elif choice == '2':\n",
    "            name = input(\"Enter the manager's name: \")\n",
    "            employee_id = input(\"Enter the manager's ID: \")\n",
    "            department = input(\"Enter the manager's department: \")\n",
    "            manager = Manager(name, employee_id, department)\n",
    "            print(manager.display_info())\n",
    "\n",
    "        elif choice == '3':\n",
    "            name = input(\"Enter the director's name: \")\n",
    "            employee_id = input(\"Enter the director's ID: \")\n",
    "            department = input(\"Enter the director's department: \")\n",
    "            region = input(\"Enter the director's region: \")\n",
    "            director = Director(name, employee_id, department, region)\n",
    "            print(director.display_info())\n",
    "            print(director.basic_info())\n",
    "\n",
    "        elif choice == '4':\n",
    "            break\n",
    "\n",
    "        else:\n",
    "            print(\"Invalid choice. Please try again.\")\n",
    "\n",
    "if __name__ == \"__main__\":\n",
    "    main()\n"
   ]
  },
  {
   "cell_type": "code",
   "execution_count": null,
   "id": "e38f786e-a004-4740-86bb-e93b1ef6ff61",
   "metadata": {},
   "outputs": [],
   "source": []
  }
 ],
 "metadata": {
  "kernelspec": {
   "display_name": "Python 3 (ipykernel)",
   "language": "python",
   "name": "python3"
  },
  "language_info": {
   "codemirror_mode": {
    "name": "ipython",
    "version": 3
   },
   "file_extension": ".py",
   "mimetype": "text/x-python",
   "name": "python",
   "nbconvert_exporter": "python",
   "pygments_lexer": "ipython3",
   "version": "3.11.7"
  }
 },
 "nbformat": 4,
 "nbformat_minor": 5
}
