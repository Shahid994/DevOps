{
 "cells": [
  {
   "cell_type": "code",
   "execution_count": 1,
   "id": "0545f3b7-aa02-4161-a761-2933ea116940",
   "metadata": {},
   "outputs": [
    {
     "name": "stdout",
     "output_type": "stream",
     "text": [
      "Mean: 4.916666666666667\n",
      "Median: 5.0\n",
      "Mode: 5\n"
     ]
    }
   ],
   "source": [
    "import statistics\n",
    "\n",
    "# Sample data\n",
    "data = [1, 2, 3, 4, 4, 5, 5, 5, 6, 7, 8, 9]\n",
    "\n",
    "# Calculate mean\n",
    "mean = statistics.mean(data)\n",
    "print(f\"Mean: {mean}\")\n",
    "\n",
    "# Calculate median\n",
    "median = statistics.median(data)\n",
    "print(f\"Median: {median}\")\n",
    "\n",
    "# Calculate mode\n",
    "mode = statistics.mode(data)\n",
    "print(f\"Mode: {mode}\")\n"
   ]
  },
  {
   "cell_type": "code",
   "execution_count": 3,
   "id": "3a5fb414-7f42-4e47-910d-48fa02daed4b",
   "metadata": {},
   "outputs": [
    {
     "name": "stdout",
     "output_type": "stream",
     "text": [
      "Range: 8\n",
      "Variance: 5.537878787878788\n",
      "Standard Deviation: 2.3532698077098573\n"
     ]
    }
   ],
   "source": [
    "import statistics\n",
    "\n",
    "# Sample data\n",
    "data = [1, 2, 3, 4, 4, 5, 5, 5, 6, 7, 8, 9]\n",
    "\n",
    "# Calculate range\n",
    "data_range = max(data) - min(data)\n",
    "print(f\"Range: {data_range}\")\n",
    "\n",
    "# Calculate variance\n",
    "variance = statistics.variance(data)\n",
    "print(f\"Variance: {variance}\")\n",
    "\n",
    "# Calculate standard deviation\n",
    "std_dev = statistics.stdev(data)\n",
    "print(f\"Standard Deviation: {std_dev}\")\n"
   ]
  },
  {
   "cell_type": "code",
   "execution_count": 8,
   "id": "043bad6d-68fd-4d95-b861-e5207e247bf6",
   "metadata": {},
   "outputs": [
    {
     "ename": "SyntaxError",
     "evalue": "(unicode error) 'unicodeescape' codec can't decode bytes in position 2-3: truncated \\UXXXXXXXX escape (1118911738.py, line 6)",
     "output_type": "error",
     "traceback": [
      "\u001b[1;36m  Cell \u001b[1;32mIn[8], line 6\u001b[1;36m\u001b[0m\n\u001b[1;33m    df = pd.read_csv('C:\\Users\\DELL\\Downloads\\student')\u001b[0m\n\u001b[1;37m                                                      ^\u001b[0m\n\u001b[1;31mSyntaxError\u001b[0m\u001b[1;31m:\u001b[0m (unicode error) 'unicodeescape' codec can't decode bytes in position 2-3: truncated \\UXXXXXXXX escape\n"
     ]
    }
   ],
   "source": [
    "import pandas as pd\n",
    "import statistics\n",
    "\n",
    "# Read data from a CSV file\n",
    "# Replace 'your_file.csv' with the path to your CSV file\n",
    "df = pd.read_csv('C:\\Users\\DELL\\Downloads\\student')\n",
    "\n",
    "# Assuming the data is in a column named 'values'\n",
    "data = df['height'].tolist()\n",
    "\n",
    "# Calculate range\n",
    "data_range = max(data) - min(data)\n",
    "print(f\"Range: {data_range}\")\n",
    "\n",
    "# Calculate variance\n",
    "variance = statistics.variance(data)\n",
    "print(f\"Variance: {variance}\")\n",
    "\n",
    "# Calculate standard deviation\n",
    "std_dev = statistics.stdev(data)\n",
    "print(f\"Standard Deviation: {std_dev}\")\n"
   ]
  },
  {
   "cell_type": "code",
   "execution_count": 7,
   "id": "8c394f05-9030-4ba8-a0f5-f15bf5402aea",
   "metadata": {},
   "outputs": [
    {
     "name": "stdout",
     "output_type": "stream",
     "text": [
      "Requirement already satisfied: pandas in c:\\users\\dell\\anaconda3\\lib\\site-packages (2.1.4)\n",
      "Requirement already satisfied: numpy<2,>=1.23.2 in c:\\users\\dell\\anaconda3\\lib\\site-packages (from pandas) (1.26.4)\n",
      "Requirement already satisfied: python-dateutil>=2.8.2 in c:\\users\\dell\\anaconda3\\lib\\site-packages (from pandas) (2.8.2)\n",
      "Requirement already satisfied: pytz>=2020.1 in c:\\users\\dell\\anaconda3\\lib\\site-packages (from pandas) (2023.3.post1)\n",
      "Requirement already satisfied: tzdata>=2022.1 in c:\\users\\dell\\anaconda3\\lib\\site-packages (from pandas) (2023.3)\n",
      "Requirement already satisfied: six>=1.5 in c:\\users\\dell\\anaconda3\\lib\\site-packages (from python-dateutil>=2.8.2->pandas) (1.16.0)\n"
     ]
    }
   ],
   "source": [
    "!pip install pandas"
   ]
  },
  {
   "cell_type": "code",
   "execution_count": 18,
   "id": "55560b91-3b42-4b92-bd2e-ad17ca329abb",
   "metadata": {},
   "outputs": [
    {
     "name": "stdout",
     "output_type": "stream",
     "text": [
      "Range: 19.5\n",
      "Variance: 47.9847619047619\n",
      "Standard Deviation: 6.927103428184244\n"
     ]
    }
   ],
   "source": [
    "import pandas as pd\n",
    "import statistics\n",
    "\n",
    "# Read data from a CSV file\n",
    "# Replace 'your_file.csv' with the path to your CSV file\n",
    "df = pd.read_csv(r'C:\\Users\\DELL\\Downloads\\student.csv')\n",
    "\n",
    "# Assuming the data is in a column named 'values'\n",
    "data = df['height'].tolist()\n",
    "\n",
    "# Calculate range\n",
    "data_range = max(data) - min(data)\n",
    "print(f\"Range: {data_range}\")\n",
    "\n",
    "# Calculate variance\n",
    "variance = statistics.variance(data)\n",
    "print(f\"Variance: {variance}\")\n",
    "\n",
    "# Calculate standard deviation\n",
    "std_dev = statistics.stdev(data)\n",
    "print(f\"Standard Deviation: {std_dev}\")\n"
   ]
  },
  {
   "cell_type": "code",
   "execution_count": 12,
   "id": "9495078f-c96b-473a-abae-f61722607c78",
   "metadata": {},
   "outputs": [
    {
     "name": "stdout",
     "output_type": "stream",
     "text": [
      "Pandas imported successfully!\n"
     ]
    }
   ],
   "source": [
    "import pandas as pd\n",
    "\n",
    "print(\"Pandas imported successfully!\")\n"
   ]
  },
  {
   "cell_type": "code",
   "execution_count": 20,
   "id": "959a79ba-b2ec-46e9-bd5e-30cd2b8e69ea",
   "metadata": {},
   "outputs": [
    {
     "name": "stdout",
     "output_type": "stream",
     "text": [
      "The distribution is negatively skewed.\n"
     ]
    }
   ],
   "source": [
    "from scipy.stats import skew\n",
    "\n",
    "# Example data (replace with your actual data)\n",
    "data = [1, 2, 3, 3, 4, 4, 4, 5, 5, 5, 5]\n",
    "\n",
    "# Calculate skewness\n",
    "skewness = skew(data)\n",
    "\n",
    "if skewness > 0:\n",
    "    print(\"The distribution is positively skewed.\")\n",
    "elif skewness < 0:\n",
    "    print(\"The distribution is negatively skewed.\")\n",
    "else:\n",
    "    print(\"The distribution is approximately symmetric.\")\n"
   ]
  },
  {
   "cell_type": "code",
   "execution_count": 22,
   "id": "87efc4d5-9d77-48f3-be77-38536329610a",
   "metadata": {},
   "outputs": [
    {
     "name": "stdout",
     "output_type": "stream",
     "text": [
      "Skewness: 0.06620055365633142\n",
      "Kurtosis: -0.04290581508488733\n"
     ]
    }
   ],
   "source": [
    "import numpy as np\n",
    "import scipy.stats as stats\n",
    "\n",
    "# Generate a sample data\n",
    "data = np.random.normal(0, 1, 1000)\n",
    "\n",
    "# Calculate skewness\n",
    "skewness = stats.skew(data)\n",
    "\n",
    "# Calculate kurtosis\n",
    "kurtosis = stats.kurtosis(data)\n",
    "\n",
    "print(f\"Skewness: {skewness}\")\n",
    "print(f\"Kurtosis: {kurtosis}\")\n"
   ]
  },
  {
   "cell_type": "code",
   "execution_count": 24,
   "id": "a9f709f7-5380-4464-9100-8754883e0690",
   "metadata": {},
   "outputs": [
    {
     "name": "stdout",
     "output_type": "stream",
     "text": [
      "Q1: -0.7010985586144735\n",
      "Median (Q2): -0.08543233343940781\n",
      "Q3: 0.6433992020705833\n"
     ]
    }
   ],
   "source": [
    "# Generate a sample data\n",
    "data = np.random.normal(0, 1, 1000)\n",
    "\n",
    "# Calculate percentiles\n",
    "percentiles = np.percentile(data, [25, 50, 75])\n",
    "\n",
    "# Calculate quartiles\n",
    "Q1 = percentiles[0]\n",
    "Q2 = percentiles[1]\n",
    "Q3 = percentiles[2]\n",
    "\n",
    "print(f\"Q1: {Q1}\")\n",
    "print(f\"Median (Q2): {Q2}\")\n",
    "print(f\"Q3: {Q3}\")\n"
   ]
  },
  {
   "cell_type": "code",
   "execution_count": 32,
   "id": "b2d26c8e-e6e2-4a43-939b-739cc32a430b",
   "metadata": {},
   "outputs": [
    {
     "name": "stdout",
     "output_type": "stream",
     "text": [
      "Covariance between x and y: 2.4078845284881245\n",
      "Correlation between x and y: 0.9294142176018374\n"
     ]
    }
   ],
   "source": [
    "import pandas as pd\n",
    "\n",
    "# Generate sample data\n",
    "np.random.seed(0)\n",
    "x = np.random.normal(0, 1, 1000)\n",
    "y = 2.5 * x + np.random.normal(0, 1, 1000)\n",
    "\n",
    "# Create a DataFrame\n",
    "df = pd.DataFrame({'x': x, 'y': y})\n",
    "\n",
    "# Calculate covariance\n",
    "covariance = df.cov().iloc[0, 1]\n",
    "\n",
    "# Calculate correlation\n",
    "correlation = df.corr().iloc[0, 1]\n",
    "\n",
    "print(f\"Covariance between x and y: {covariance}\")\n",
    "print(f\"Correlation between x and y: {correlation}\")\n"
   ]
  },
  {
   "cell_type": "code",
   "execution_count": 28,
   "id": "19ae246b-d02e-4a2c-ad4f-8b0e8fdbe3b3",
   "metadata": {},
   "outputs": [
    {
     "name": "stdout",
     "output_type": "stream",
     "text": [
      "Covariance between x and y (NumPy): 2.4078845284881245\n"
     ]
    }
   ],
   "source": [
    "import numpy as np\n",
    "\n",
    "# Generate sample data\n",
    "np.random.seed(0)\n",
    "x = np.random.normal(0, 1, 1000)\n",
    "y = 2.5 * x + np.random.normal(0, 1, 1000)\n",
    "\n",
    "# Calculate covariance\n",
    "covariance_np = np.cov(x, y)[0, 1]\n",
    "\n",
    "print(f\"Covariance between x and y (NumPy): {covariance_np}\")\n"
   ]
  },
  {
   "cell_type": "code",
   "execution_count": 30,
   "id": "905200c0-933b-44dd-a2c0-d6925c295091",
   "metadata": {},
   "outputs": [
    {
     "name": "stdout",
     "output_type": "stream",
     "text": [
      "Correlation between x and y (NumPy): 0.9294142176018378\n"
     ]
    }
   ],
   "source": [
    "import numpy as np\n",
    "\n",
    "# Generate sample data\n",
    "np.random.seed(0)\n",
    "x = np.random.normal(0, 1, 1000)\n",
    "y = 2.5 * x + np.random.normal(0, 1, 1000)\n",
    "\n",
    "# Calculate correlation\n",
    "correlation_np = np.corrcoef(x, y)[0, 1]\n",
    "\n",
    "print(f\"Correlation between x and y (NumPy): {correlation_np}\")\n"
   ]
  },
  {
   "cell_type": "code",
   "execution_count": null,
   "id": "06a7449b-fa4c-4f53-a473-5abc6fd95765",
   "metadata": {},
   "outputs": [],
   "source": []
  }
 ],
 "metadata": {
  "kernelspec": {
   "display_name": "Python 3 (ipykernel)",
   "language": "python",
   "name": "python3"
  },
  "language_info": {
   "codemirror_mode": {
    "name": "ipython",
    "version": 3
   },
   "file_extension": ".py",
   "mimetype": "text/x-python",
   "name": "python",
   "nbconvert_exporter": "python",
   "pygments_lexer": "ipython3",
   "version": "3.11.7"
  }
 },
 "nbformat": 4,
 "nbformat_minor": 5
}
