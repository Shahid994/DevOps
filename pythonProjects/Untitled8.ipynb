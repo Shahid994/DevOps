{
 "cells": [
  {
   "cell_type": "code",
   "execution_count": 1,
   "id": "9cbaa2ce-c400-4e37-b39d-37f27bc5228d",
   "metadata": {},
   "outputs": [
    {
     "name": "stdout",
     "output_type": "stream",
     "text": [
      "Total: 150\n"
     ]
    }
   ],
   "source": [
    "numbers = [10, 20, 30, 40, 50]\n",
    "total = sum(numbers)\n",
    "print(\"Total:\", total)\n"
   ]
  },
  {
   "cell_type": "code",
   "execution_count": 3,
   "id": "21acb336-3007-40fb-b44a-7fa98255f703",
   "metadata": {},
   "outputs": [
    {
     "name": "stdout",
     "output_type": "stream",
     "text": [
      "Average Grade: 86.6\n"
     ]
    }
   ],
   "source": [
    "grades = [85, 90, 78, 92, 88]\n",
    "average_grade = sum(grades) / len(grades)\n",
    "print(\"Average Grade:\", average_grade)\n"
   ]
  },
  {
   "cell_type": "code",
   "execution_count": 5,
   "id": "db2950b0-5073-477e-821e-5220c94fe0ce",
   "metadata": {},
   "outputs": [
    {
     "name": "stdout",
     "output_type": "stream",
     "text": [
      "Word Count: {'apple': 3, 'banana': 2, 'orange': 1}\n"
     ]
    }
   ],
   "source": [
    "words = [\"apple\", \"banana\", \"apple\", \"orange\", \"banana\", \"apple\"]\n",
    "word_count = {}\n",
    "\n",
    "for word in words:\n",
    "    if word in word_count:\n",
    "        word_count[word] += 1\n",
    "    else:\n",
    "        word_count[word] = 1\n",
    "\n",
    "print(\"Word Count:\", word_count)\n"
   ]
  },
  {
   "cell_type": "code",
   "execution_count": 7,
   "id": "fea00e8c-c125-4c10-96db-f87026b8bf31",
   "metadata": {},
   "outputs": [
    {
     "name": "stdout",
     "output_type": "stream",
     "text": [
      "Total Expenses: 1750\n"
     ]
    }
   ],
   "source": [
    "expenses = {\n",
    "    \"rent\": 1200,\n",
    "    \"groceries\": 300,\n",
    "    \"utilities\": 150,\n",
    "    \"entertainment\": 100\n",
    "}\n",
    "total_expenses = sum(expenses.values())\n",
    "print(\"Total Expenses:\", total_expenses)\n"
   ]
  },
  {
   "cell_type": "code",
   "execution_count": 9,
   "id": "bfa8cdd4-2809-45bd-bc28-5834329f579f",
   "metadata": {},
   "outputs": [
    {
     "name": "stdout",
     "output_type": "stream",
     "text": [
      "Average Temperature: 22.0\n"
     ]
    }
   ],
   "source": [
    "temperatures = [22, 24, 19, 23, 25, 21, 20]\n",
    "average_temperature = sum(temperatures) / len(temperatures)\n",
    "print(\"Average Temperature:\", average_temperature)\n"
   ]
  },
  {
   "cell_type": "code",
   "execution_count": 11,
   "id": "aeb5251a-2525-45fd-89fa-2c2ac1bb9938",
   "metadata": {},
   "outputs": [
    {
     "name": "stdout",
     "output_type": "stream",
     "text": [
      "Total Expenses by Category: {'rent': 3600, 'groceries': 930, 'utilities': 435, 'entertainment': 330}\n"
     ]
    }
   ],
   "source": [
    "expenses = {\n",
    "    \"January\": {\"rent\": 1200, \"groceries\": 300, \"utilities\": 150, \"entertainment\": 100},\n",
    "    \"February\": {\"rent\": 1200, \"groceries\": 320, \"utilities\": 140, \"entertainment\": 120},\n",
    "    \"March\": {\"rent\": 1200, \"groceries\": 310, \"utilities\": 145, \"entertainment\": 110}\n",
    "}\n",
    "\n",
    "total_expenses = {}\n",
    "for month, categories in expenses.items():\n",
    "    for category, amount in categories.items():\n",
    "        if category in total_expenses:\n",
    "            total_expenses[category] += amount\n",
    "        else:\n",
    "            total_expenses[category] = amount\n",
    "\n",
    "print(\"Total Expenses by Category:\", total_expenses)\n"
   ]
  },
  {
   "cell_type": "code",
   "execution_count": 13,
   "id": "c26b1ec4-b764-48c1-9c30-639d10271de3",
   "metadata": {},
   "outputs": [
    {
     "name": "stdout",
     "output_type": "stream",
     "text": [
      "Total Sales by Product: {'A': 90.0, 'B': 120.0, 'C': 70.0}\n"
     ]
    }
   ],
   "source": [
    "sales_data = [\n",
    "    {\"product\": \"A\", \"quantity\": 10, \"price\": 5.0},\n",
    "    {\"product\": \"B\", \"quantity\": 5, \"price\": 8.0},\n",
    "    {\"product\": \"A\", \"quantity\": 8, \"price\": 5.0},\n",
    "    {\"product\": \"C\", \"quantity\": 7, \"price\": 10.0},\n",
    "    {\"product\": \"B\", \"quantity\": 10, \"price\": 8.0}\n",
    "]\n",
    "\n",
    "total_sales = {}\n",
    "for sale in sales_data:\n",
    "    product = sale[\"product\"]\n",
    "    amount = sale[\"quantity\"] * sale[\"price\"]\n",
    "    if product in total_sales:\n",
    "        total_sales[product] += amount\n",
    "    else:\n",
    "        total_sales[product] = amount\n",
    "\n",
    "print(\"Total Sales by Product:\", total_sales)\n"
   ]
  },
  {
   "cell_type": "code",
   "execution_count": 15,
   "id": "78329b86-900f-469f-8ece-c032a5b33e67",
   "metadata": {},
   "outputs": [
    {
     "name": "stdout",
     "output_type": "stream",
     "text": [
      "Average Exam Scores by Student: {1: {'total_score': 251, 'exam_count': 3, 'average_score': 83.66666666666667}, 2: {'total_score': 247, 'exam_count': 3, 'average_score': 82.33333333333333}}\n"
     ]
    }
   ],
   "source": [
    "exam_scores = [\n",
    "    {\"student_id\": 1, \"exam\": \"Math\", \"score\": 85},\n",
    "    {\"student_id\": 2, \"exam\": \"Math\", \"score\": 78},\n",
    "    {\"student_id\": 1, \"exam\": \"Science\", \"score\": 92},\n",
    "    {\"student_id\": 2, \"exam\": \"Science\", \"score\": 88},\n",
    "    {\"student_id\": 1, \"exam\": \"History\", \"score\": 74},\n",
    "    {\"student_id\": 2, \"exam\": \"History\", \"score\": 81}\n",
    "]\n",
    "\n",
    "student_averages = {}\n",
    "for score in exam_scores:\n",
    "    student_id = score[\"student_id\"]\n",
    "    if student_id not in student_averages:\n",
    "        student_averages[student_id] = {\"total_score\": 0, \"exam_count\": 0}\n",
    "    student_averages[student_id][\"total_score\"] += score[\"score\"]\n",
    "    student_averages[student_id][\"exam_count\"] += 1\n",
    "\n",
    "for student_id, data in student_averages.items():\n",
    "    data[\"average_score\"] = data[\"total_score\"] / data[\"exam_count\"]\n",
    "\n",
    "print(\"Average Exam Scores by Student:\", student_averages)\n"
   ]
  },
  {
   "cell_type": "code",
   "execution_count": 17,
   "id": "4c5bb545-405a-490b-80e4-0b2bdf4bf3fe",
   "metadata": {},
   "outputs": [
    {
     "name": "stdout",
     "output_type": "stream",
     "text": [
      "Generated Expenses:\n",
      "{'January': {'rent': 733, 'groceries': 966, 'utilities': 619, 'entertainment': 367}, 'February': {'rent': 514, 'groceries': 1097, 'utilities': 348, 'entertainment': 1225}, 'March': {'rent': 695, 'groceries': 385, 'utilities': 582, 'entertainment': 430}}\n"
     ]
    }
   ],
   "source": [
    "import random\n",
    "\n",
    "# Define categories and months\n",
    "categories = [\"rent\", \"groceries\", \"utilities\", \"entertainment\"]\n",
    "months = [\"January\", \"February\", \"March\"]\n",
    "\n",
    "# Generate random expenses for each category in each month\n",
    "expenses = {month: {category: random.randint(100, 1500) for category in categories} for month in months}\n",
    "\n",
    "# Print the generated expenses\n",
    "print(\"Generated Expenses:\")\n",
    "print(expenses)\n"
   ]
  },
  {
   "cell_type": "code",
   "execution_count": 19,
   "id": "2c11a262-7ac6-4372-8e67-3b4e3e8ea279",
   "metadata": {},
   "outputs": [
    {
     "name": "stdout",
     "output_type": "stream",
     "text": [
      "Expenses: {'January': {'rent': 1467, 'groceries': 1107, 'utilities': 418, 'entertainment': 1158}, 'February': {'rent': 412, 'groceries': 770, 'utilities': 1457, 'entertainment': 996}, 'March': {'rent': 933, 'groceries': 731, 'utilities': 737, 'entertainment': 1385}}\n",
      "Total Expenses by Category: {'rent': 2812, 'groceries': 2608, 'utilities': 2612, 'entertainment': 3539}\n"
     ]
    }
   ],
   "source": [
    "import random\n",
    "\n",
    "categories = [\"rent\", \"groceries\", \"utilities\", \"entertainment\"]\n",
    "months = [\"January\", \"February\", \"March\"]\n",
    "\n",
    "expenses = {month: {category: random.randint(100, 1500) for category in categories} for month in months}\n",
    "\n",
    "total_expenses = {}\n",
    "for month, categories in expenses.items():\n",
    "    for category, amount in categories.items():\n",
    "        if category in total_expenses:\n",
    "            total_expenses[category] += amount\n",
    "        else:\n",
    "            total_expenses[category] = amount\n",
    "\n",
    "print(\"Expenses:\", expenses)\n",
    "print(\"Total Expenses by Category:\", total_expenses)\n"
   ]
  },
  {
   "cell_type": "code",
   "execution_count": 21,
   "id": "b9da94fc-7322-495a-b7a4-cf8ecbfc0e50",
   "metadata": {},
   "outputs": [
    {
     "name": "stdout",
     "output_type": "stream",
     "text": [
      "Sales Data:\n",
      "[{'product': 'B', 'quantity': 14, 'price': 9.83}, {'product': 'A', 'quantity': 11, 'price': 7.21}, {'product': 'C', 'quantity': 3, 'price': 5.11}, {'product': 'A', 'quantity': 9, 'price': 7.85}, {'product': 'B', 'quantity': 12, 'price': 1.78}, {'product': 'C', 'quantity': 6, 'price': 2.69}, {'product': 'C', 'quantity': 10, 'price': 4.19}, {'product': 'A', 'quantity': 20, 'price': 3.49}, {'product': 'C', 'quantity': 2, 'price': 9.88}, {'product': 'A', 'quantity': 11, 'price': 2.63}]\n"
     ]
    }
   ],
   "source": [
    "import random\n",
    "products = [\"A\", \"B\", \"C\"]\n",
    "sales_data = [\n",
    "    {\n",
    "        \"product\": random.choice(products),                 # Randomly choose a product from the products list\n",
    "        \"quantity\": random.randint(1, 20),                  # Randomly generate a quantity between 1 and 20\n",
    "        \"price\": round(random.uniform(1.0, 10.0), 2)        # Randomly generate a price between 1.0 and 10.0 (rounded to 2 decimal places)\n",
    "    }\n",
    "    for _ in range(10)                                      # Repeat 10 times to generate 10 sales data entries\n",
    "]\n",
    "print(\"Sales Data:\")\n",
    "print(sales_data)"
   ]
  },
  {
   "cell_type": "code",
   "execution_count": 23,
   "id": "85a93234-a929-43e2-941e-0a7f52755e03",
   "metadata": {},
   "outputs": [
    {
     "name": "stdout",
     "output_type": "stream",
     "text": [
      "Sales Data: [{'product': 'B', 'quantity': 8, 'price': 8.73}, {'product': 'B', 'quantity': 5, 'price': 1.32}, {'product': 'A', 'quantity': 3, 'price': 4.83}, {'product': 'C', 'quantity': 16, 'price': 5.79}, {'product': 'C', 'quantity': 7, 'price': 2.87}, {'product': 'B', 'quantity': 15, 'price': 9.5}, {'product': 'B', 'quantity': 19, 'price': 5.39}, {'product': 'C', 'quantity': 1, 'price': 3.74}, {'product': 'B', 'quantity': 6, 'price': 9.74}, {'product': 'C', 'quantity': 18, 'price': 3.39}]\n",
      "Total Sales by Product: {'B': 379.79, 'A': 14.49, 'C': 177.49}\n"
     ]
    }
   ],
   "source": [
    "import random\n",
    "\n",
    "products = [\"A\", \"B\", \"C\"]\n",
    "sales_data = [\n",
    "    {\"product\": random.choice(products), \"quantity\": random.randint(1, 20), \"price\": round(random.uniform(1.0, 10.0), 2)}\n",
    "    for _ in range(10)\n",
    "]\n",
    "\n",
    "total_sales = {}\n",
    "for sale in sales_data:\n",
    "    product = sale[\"product\"]\n",
    "    amount = sale[\"quantity\"] * sale[\"price\"]\n",
    "    if product in total_sales:\n",
    "        total_sales[product] += amount\n",
    "    else:\n",
    "        total_sales[product] = amount\n",
    "\n",
    "print(\"Sales Data:\", sales_data)\n",
    "print(\"Total Sales by Product:\", total_sales)\n"
   ]
  },
  {
   "cell_type": "code",
   "execution_count": 25,
   "id": "29f22f9b-7967-4887-8791-6c788bfe38ae",
   "metadata": {},
   "outputs": [
    {
     "name": "stdout",
     "output_type": "stream",
     "text": [
      "Exam Scores: [{'student_id': 3, 'exam': 'Math', 'score': 70}, {'student_id': 1, 'exam': 'Math', 'score': 72}, {'student_id': 2, 'exam': 'Science', 'score': 72}, {'student_id': 3, 'exam': 'Science', 'score': 98}, {'student_id': 3, 'exam': 'Science', 'score': 77}, {'student_id': 1, 'exam': 'Math', 'score': 87}, {'student_id': 3, 'exam': 'Math', 'score': 63}, {'student_id': 3, 'exam': 'Science', 'score': 98}, {'student_id': 2, 'exam': 'Math', 'score': 78}, {'student_id': 3, 'exam': 'Math', 'score': 57}]\n",
      "Average Exam Scores by Student: {3: {'total_score': 463, 'exam_count': 6, 'average_score': 77.16666666666667}, 1: {'total_score': 159, 'exam_count': 2, 'average_score': 79.5}, 2: {'total_score': 150, 'exam_count': 2, 'average_score': 75.0}}\n"
     ]
    }
   ],
   "source": [
    "import random\n",
    "\n",
    "students = [1, 2, 3]\n",
    "exams = [\"Math\", \"Science\", \"History\"]\n",
    "exam_scores = [\n",
    "    {\"student_id\": random.choice(students), \"exam\": random.choice(exams), \"score\": random.randint(50, 100)}\n",
    "    for _ in range(10)\n",
    "]\n",
    "\n",
    "student_averages = {}\n",
    "for score in exam_scores:\n",
    "    student_id = score[\"student_id\"]\n",
    "    if student_id not in student_averages:\n",
    "        student_averages[student_id] = {\"total_score\": 0, \"exam_count\": 0}\n",
    "    student_averages[student_id][\"total_score\"] += score[\"score\"]\n",
    "    student_averages[student_id][\"exam_count\"] += 1\n",
    "\n",
    "for student_id, data in student_averages.items():\n",
    "    data[\"average_score\"] = data[\"total_score\"] / data[\"exam_count\"]\n",
    "\n",
    "print(\"Exam Scores:\", exam_scores)\n",
    "print(\"Average Exam Scores by Student:\", student_averages)\n"
   ]
  },
  {
   "cell_type": "code",
   "execution_count": null,
   "id": "da884368-720e-4617-afea-b918cd9ab400",
   "metadata": {},
   "outputs": [],
   "source": []
  }
 ],
 "metadata": {
  "kernelspec": {
   "display_name": "Python 3 (ipykernel)",
   "language": "python",
   "name": "python3"
  },
  "language_info": {
   "codemirror_mode": {
    "name": "ipython",
    "version": 3
   },
   "file_extension": ".py",
   "mimetype": "text/x-python",
   "name": "python",
   "nbconvert_exporter": "python",
   "pygments_lexer": "ipython3",
   "version": "3.11.7"
  }
 },
 "nbformat": 4,
 "nbformat_minor": 5
}
