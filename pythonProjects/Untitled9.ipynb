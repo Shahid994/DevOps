{
 "cells": [
  {
   "cell_type": "code",
   "execution_count": 1,
   "id": "fdf1e7c1-e81b-469e-9622-92683e172e90",
   "metadata": {},
   "outputs": [
    {
     "name": "stdout",
     "output_type": "stream",
     "text": [
      "Outer value: 10\n",
      "Inner value: 20\n"
     ]
    }
   ],
   "source": [
    "class OuterClass:\n",
    "    def __init__(self, outer_value):\n",
    "        self.outer_value = outer_value\n",
    "\n",
    "    def show_outer_value(self):\n",
    "        print(f'Outer value: {self.outer_value}')\n",
    "\n",
    "    class InnerClass:\n",
    "        def __init__(self, inner_value):\n",
    "            self.inner_value = inner_value\n",
    "\n",
    "        def show_inner_value(self):\n",
    "            print(f'Inner value: {self.inner_value}')\n",
    "\n",
    "# Example usage:\n",
    "outer = OuterClass(10)\n",
    "outer.show_outer_value()\n",
    "\n",
    "inner = outer.InnerClass(20)\n",
    "inner.show_inner_value()\n"
   ]
  },
  {
   "cell_type": "code",
   "execution_count": 3,
   "id": "b4a8c7f8-ca34-4a4e-9e3a-57ca1365a18f",
   "metadata": {},
   "outputs": [
    {
     "name": "stdout",
     "output_type": "stream",
     "text": [
      "Departments in Tech Innovators:\n",
      "Department: Research and Development\n",
      "Employee ID: 101, Employee Name: Shahid\n",
      "Employee ID: 102, Employee Name: Saqib\n",
      "Department: Human Resources\n",
      "Employee ID: 201, Employee Name: Muneeb\n"
     ]
    }
   ],
   "source": [
    "class Company:\n",
    "    def __init__(self, company_name):\n",
    "        self.company_name = company_name\n",
    "        self.departments = []\n",
    "\n",
    "    def add_department(self, dept_name):\n",
    "        department = self.Department(dept_name)\n",
    "        self.departments.append(department)\n",
    "        return department\n",
    "\n",
    "    def display_departments(self):\n",
    "        print(f'Departments in {self.company_name}:')\n",
    "        for dept in self.departments:\n",
    "            dept.display_department_info()\n",
    "\n",
    "    class Department:\n",
    "        def __init__(self, dept_name):\n",
    "            self.dept_name = dept_name\n",
    "            self.employees = []\n",
    "\n",
    "        def add_employee(self, emp_name, emp_id):\n",
    "            employee = self.Employee(emp_name, emp_id)\n",
    "            self.employees.append(employee)\n",
    "\n",
    "        def display_department_info(self):\n",
    "            print(f'Department: {self.dept_name}')\n",
    "            for emp in self.employees:\n",
    "                emp.display_employee_info()\n",
    "\n",
    "        class Employee:\n",
    "            def __init__(self, emp_name, emp_id):\n",
    "                self.emp_name = emp_name\n",
    "                self.emp_id = emp_id\n",
    "\n",
    "            def display_employee_info(self):\n",
    "                print(f'Employee ID: {self.emp_id}, Employee Name: {self.emp_name}')\n",
    "\n",
    "# Example usage:\n",
    "my_company = Company('Tech Innovators')\n",
    "dept1 = my_company.add_department('Research and Development')\n",
    "dept2 = my_company.add_department('Human Resources')\n",
    "\n",
    "dept1.add_employee('Shahid', 101)\n",
    "dept1.add_employee('Saqib', 102)\n",
    "\n",
    "dept2.add_employee('Muneeb', 201)\n",
    "\n",
    "my_company.display_departments()\n"
   ]
  },
  {
   "cell_type": "code",
   "execution_count": 5,
   "id": "ea2d10f3-8b53-4e0b-8444-a188baa42dbf",
   "metadata": {},
   "outputs": [
    {
     "name": "stdout",
     "output_type": "stream",
     "text": [
      "Library Name: City Library\n",
      "Title: 1984, Author: Saladin\n",
      "Title: Hobbies, Author: Harper Lee\n"
     ]
    }
   ],
   "source": [
    "class Library:\n",
    "    def __init__(self, library_name):\n",
    "        self.library_name = library_name\n",
    "\n",
    "    class Book:\n",
    "        def __init__(self, title, author):\n",
    "            self.title = title\n",
    "            self.author = author\n",
    "\n",
    "        def display_book_info(self):\n",
    "            print(f\"Title: {self.title}, Author: {self.author}\")\n",
    "\n",
    "    def add_book(self, title, author):\n",
    "        return self.Book(title, author)\n",
    "\n",
    "    def display_library_info(self):\n",
    "        print(f\"Library Name: {self.library_name}\")\n",
    "\n",
    "# Example usage\n",
    "library = Library(\"City Library\")\n",
    "library.display_library_info()\n",
    "\n",
    "# Adding books\n",
    "book1 = library.add_book(\"1984\", \"Saladin\")\n",
    "book2 = library.add_book(\"Hobbies\", \"Harper Lee\")\n",
    "\n",
    "# Displaying book information\n",
    "book1.display_book_info()\n",
    "book2.display_book_info()\n"
   ]
  },
  {
   "cell_type": "code",
   "execution_count": 7,
   "id": "68276b38-9e05-451c-b3a9-90239d4404a8",
   "metadata": {},
   "outputs": [
    {
     "name": "stdout",
     "output_type": "stream",
     "text": [
      "25\n",
      "25\n"
     ]
    }
   ],
   "source": [
    "# Regular function\n",
    "def square(x):\n",
    "    return x ** 2\n",
    "\n",
    "# Equivalent lambda function\n",
    "square_lambda = lambda x: x ** 2\n",
    "\n",
    "print(square(5))         # Output: 25\n",
    "print(square_lambda(5))  # Output: 25\n"
   ]
  },
  {
   "cell_type": "code",
   "execution_count": 9,
   "id": "f5850601-d08a-49f2-87de-adef120c8e64",
   "metadata": {},
   "outputs": [
    {
     "name": "stdout",
     "output_type": "stream",
     "text": [
      "8\n",
      "2\n",
      "15\n",
      "1.6666666666666667\n"
     ]
    }
   ],
   "source": [
    "add = lambda x, y: x + y\n",
    "subtract = lambda x, y: x - y\n",
    "multiply = lambda x, y: x * y\n",
    "divide = lambda x, y: x / y if y != 0 else float('inf')\n",
    "\n",
    "print(add(5, 3))       # Output: 8\n",
    "print(subtract(5, 3))  # Output: 2\n",
    "print(multiply(5, 3))  # Output: 15\n",
    "print(divide(5, 3))    # Output: 1.6666666666666667\n"
   ]
  },
  {
   "cell_type": "code",
   "execution_count": 15,
   "id": "d5484a69-1b36-4a5a-921d-87dfc07b856d",
   "metadata": {},
   "outputs": [
    {
     "name": "stdout",
     "output_type": "stream",
     "text": [
      "5.0\n",
      "inf\n"
     ]
    }
   ],
   "source": [
    "divide = lambda x, y: x / y if y != 0 else float('inf')\n",
    "\n",
    "result1 = divide(10, 2)  # Result will be 5.0\n",
    "result2 = divide(8, 0)   # Result will be infinity (inf)\n",
    "print(result1)\n",
    "print(result2)"
   ]
  },
  {
   "cell_type": "code",
   "execution_count": 1,
   "id": "3ed080ee-35aa-4e24-8ef7-7f8738aab284",
   "metadata": {},
   "outputs": [
    {
     "name": "stdout",
     "output_type": "stream",
     "text": [
      "Library Name: City Library\n",
      "Books in the library:\n",
      "Library Name: City Library\n",
      "Books in the library:\n",
      "Title: 1984, Author: saladin\n",
      "Title: kill dragon, Author: muqeet\n"
     ]
    }
   ],
   "source": [
    "class Library:\n",
    "    def __init__(self, library_name):\n",
    "        self.library_name = library_name\n",
    "        self.books = []\n",
    "\n",
    "    class Book:\n",
    "        def __init__(self, title, author):\n",
    "            self.title = title\n",
    "            self.author = author\n",
    "\n",
    "        def display_book_info(self):\n",
    "            print(f\"Title: {self.title}, Author: {self.author}\")\n",
    "\n",
    "    def add_book(self, title, author):\n",
    "        new_book = self.Book(title, author)\n",
    "        self.books.append(new_book)\n",
    "        return new_book\n",
    "\n",
    "    def display_library_info(self):\n",
    "        print(f\"Library Name: {self.library_name}\")\n",
    "        print(\"Books in the library:\")\n",
    "        for book in self.books:\n",
    "            book.display_book_info()\n",
    "\n",
    "# Example usage\n",
    "library = Library(\"City Library\")\n",
    "library.display_library_info()\n",
    "\n",
    "# Adding books\n",
    "book1 = library.add_book(\"1984\", \"saladin\")\n",
    "book2 = library.add_book(\"kill dragon\", \"muqeet\")\n",
    "\n",
    "# Displaying library and book information\n",
    "library.display_library_info()\n"
   ]
  },
  {
   "cell_type": "code",
   "execution_count": 3,
   "id": "d9e7eea5-f652-488a-9ee9-a05e8f395583",
   "metadata": {},
   "outputs": [
    {
     "name": "stdout",
     "output_type": "stream",
     "text": [
      "Library Name: City Library\n",
      "Books in the library:\n",
      "Title: 1984, Author: saladin\n",
      "Title: kill dragon, Author: muqeet\n",
      "Library Name: City Library\n",
      "Books in the library:\n",
      "Title: 1984, Author: saladin\n",
      "Title: kill dragon, Author: muqeet\n"
     ]
    }
   ],
   "source": [
    "class Library:\n",
    "    def __init__(self, library_name):\n",
    "        self.library_name = library_name\n",
    "        self.books = []\n",
    "\n",
    "    class Book:\n",
    "        def __init__(self, title, author):\n",
    "            self.title = title\n",
    "            self.author = author\n",
    "\n",
    "        def display_book_info(self):\n",
    "            print(f\"Title: {self.title}, Author: {self.author}\")\n",
    "\n",
    "    def add_book(self, title, author):\n",
    "        new_book = self.Book(title, author)\n",
    "        self.books.append(new_book)\n",
    "        return new_book\n",
    "\n",
    "    def display_library_info(self):\n",
    "        print(f\"Library Name: {self.library_name}\")\n",
    "        print(\"Books in the library:\")\n",
    "        for book in self.books:\n",
    "            book.display_book_info()\n",
    "\n",
    "# Example usage\n",
    "library = Library(\"City Library\")\n",
    "library.display_library_info()\n",
    "\n",
    "# Adding books\n",
    "book1 = library.add_book(\"1984\", \"saladin\")\n",
    "book2 = library.add_book(\"kill dragon\", \"muqeet\")\n",
    "\n",
    "# Displaying book information individually\n",
    "book1.display_book_info()\n",
    "book2.display_book_info()\n",
    "\n",
    "# Displaying library and book information\n",
    "library.display_library_info()\n"
   ]
  },
  {
   "cell_type": "code",
   "execution_count": 5,
   "id": "3470489c-d250-44ee-8ff0-b82a3b81c317",
   "metadata": {},
   "outputs": [
    {
     "name": "stdin",
     "output_type": "stream",
     "text": [
      "Enter the library name:  islamabad libraray\n"
     ]
    },
    {
     "name": "stdout",
     "output_type": "stream",
     "text": [
      "Library Name: islamabad libraray\n",
      "Books in the library:\n"
     ]
    },
    {
     "name": "stdin",
     "output_type": "stream",
     "text": [
      "Do you want to add a book? (yes/no):  YES\n",
      "Enter the book title:  History of Islam\n",
      "Enter the book author:  saladin\n",
      "Do you want to add a book? (yes/no):  yes\n",
      "Enter the book title:  romans history\n",
      "Enter the book author:  shahid\n",
      "Do you want to add a book? (yes/no):  no\n"
     ]
    },
    {
     "name": "stdout",
     "output_type": "stream",
     "text": [
      "Library Name: islamabad libraray\n",
      "Books in the library:\n",
      "Title: History of Islam, Author: saladin\n",
      "Title: romans history, Author: shahid\n"
     ]
    }
   ],
   "source": [
    "class Library:\n",
    "    def __init__(self, library_name):\n",
    "        self.library_name = library_name\n",
    "        self.books = []\n",
    "\n",
    "    class Book:\n",
    "        def __init__(self, title, author):\n",
    "            self.title = title\n",
    "            self.author = author\n",
    "\n",
    "        def display_book_info(self):\n",
    "            print(f\"Title: {self.title}, Author: {self.author}\")\n",
    "\n",
    "    def add_book(self, title, author):\n",
    "        new_book = self.Book(title, author)\n",
    "        self.books.append(new_book)\n",
    "        return new_book\n",
    "\n",
    "    def display_library_info(self):\n",
    "        print(f\"Library Name: {self.library_name}\")\n",
    "        print(\"Books in the library:\")\n",
    "        for book in self.books:\n",
    "            book.display_book_info()\n",
    "\n",
    "# Example usage\n",
    "library_name = input(\"Enter the library name: \")\n",
    "library = Library(library_name)\n",
    "library.display_library_info()\n",
    "\n",
    "# Adding books based on user input\n",
    "while True:\n",
    "    add_more = input(\"Do you want to add a book? (yes/no): \").strip().lower()\n",
    "    if add_more == 'no':\n",
    "        break\n",
    "    title = input(\"Enter the book title: \").strip()\n",
    "    author = input(\"Enter the book author: \").strip()\n",
    "    library.add_book(title, author)\n",
    "\n",
    "# Displaying library and book information\n",
    "library.display_library_info()\n"
   ]
  },
  {
   "cell_type": "code",
   "execution_count": 7,
   "id": "b866b70e-0b70-4de6-b572-dde3f10984e7",
   "metadata": {},
   "outputs": [
    {
     "name": "stdout",
     "output_type": "stream",
     "text": [
      "[2, 4, 6, 8, 10]\n"
     ]
    }
   ],
   "source": [
    "def double(x):\n",
    "    return x * 2\n",
    "\n",
    "numbers = [1, 2, 3, 4, 5]\n",
    "doubled_numbers = map(double, numbers)\n",
    "\n",
    "print(list(doubled_numbers))  "
   ]
  },
  {
   "cell_type": "code",
   "execution_count": 11,
   "id": "08eba97b-b898-4758-93e7-b8963a4e1c5a",
   "metadata": {},
   "outputs": [
    {
     "name": "stdout",
     "output_type": "stream",
     "text": [
      "[2, 4, 6, 8, 10]\n"
     ]
    }
   ],
   "source": [
    "numbers = [1, 2, 3, 4, 5]\n",
    "doubled_numbers = map(lambda x: x * 2, numbers)\n",
    "\n",
    "print(list(doubled_numbers))  \n"
   ]
  },
  {
   "cell_type": "code",
   "execution_count": 13,
   "id": "62d6cc75-c2cc-469b-b699-aa7b6527a880",
   "metadata": {},
   "outputs": [
    {
     "name": "stdout",
     "output_type": "stream",
     "text": [
      "[2, 4, 6]\n"
     ]
    }
   ],
   "source": [
    "def is_even(x):\n",
    "    return x % 2 == 0\n",
    "\n",
    "numbers = [1, 2, 3, 4, 5, 6]\n",
    "even_numbers = filter(is_even, numbers)\n",
    "\n",
    "print(list(even_numbers))  \n"
   ]
  },
  {
   "cell_type": "code",
   "execution_count": 15,
   "id": "8727b7d3-e29f-4b47-8051-209744f0d268",
   "metadata": {},
   "outputs": [
    {
     "name": "stdout",
     "output_type": "stream",
     "text": [
      "[2, 4, 6]\n"
     ]
    }
   ],
   "source": [
    "numbers = [1, 2, 3, 4, 5, 6]\n",
    "even_numbers = filter(lambda x: x % 2 == 0, numbers)\n",
    "\n",
    "print(list(even_numbers)) \n"
   ]
  },
  {
   "cell_type": "code",
   "execution_count": 17,
   "id": "0bb849c0-a144-403c-9f99-9bef1bb8f0df",
   "metadata": {},
   "outputs": [
    {
     "name": "stdout",
     "output_type": "stream",
     "text": [
      "[4, 8, 12]\n"
     ]
    }
   ],
   "source": [
    "numbers = [1, 2, 3, 4, 5, 6]\n",
    "\n",
    "# Filter out even numbers and then double them\n",
    "filtered_and_doubled = map(lambda x: x * 2, filter(lambda x: x % 2 == 0, numbers))\n",
    "\n",
    "print(list(filtered_and_doubled))  \n"
   ]
  },
  {
   "cell_type": "code",
   "execution_count": null,
   "id": "3f0bce7c-faa7-491d-ae90-d16edcc3693d",
   "metadata": {},
   "outputs": [],
   "source": []
  }
 ],
 "metadata": {
  "kernelspec": {
   "display_name": "Python 3 (ipykernel)",
   "language": "python",
   "name": "python3"
  },
  "language_info": {
   "codemirror_mode": {
    "name": "ipython",
    "version": 3
   },
   "file_extension": ".py",
   "mimetype": "text/x-python",
   "name": "python",
   "nbconvert_exporter": "python",
   "pygments_lexer": "ipython3",
   "version": "3.11.7"
  }
 },
 "nbformat": 4,
 "nbformat_minor": 5
}
